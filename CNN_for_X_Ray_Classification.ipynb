{
  "nbformat": 4,
  "nbformat_minor": 0,
  "metadata": {
    "colab": {
      "name": "CNN for X-Ray Classification.ipynb",
      "provenance": [],
      "collapsed_sections": [],
      "toc_visible": true,
      "mount_file_id": "1aEsU1PgpZHxnUdYQV-erTUmzmgbGzd85",
      "authorship_tag": "ABX9TyMT5T/bGEyk8naNs7UC/1GU",
      "include_colab_link": true
    },
    "kernelspec": {
      "name": "python3",
      "display_name": "Python 3"
    },
    "language_info": {
      "name": "python"
    },
    "gpuClass": "standard",
    "accelerator": "GPU"
  },
  "cells": [
    {
      "cell_type": "markdown",
      "metadata": {
        "id": "view-in-github",
        "colab_type": "text"
      },
      "source": [
        "<a href=\"https://colab.research.google.com/github/andygma567/X-Ray-Image-Classification/blob/main/CNN_for_X_Ray_Classification.ipynb\" target=\"_parent\"><img src=\"https://colab.research.google.com/assets/colab-badge.svg\" alt=\"Open In Colab\"/></a>"
      ]
    },
    {
      "cell_type": "markdown",
      "source": [
        "# Abstract\n",
        "\n",
        "We build a CNN using the Keras Tuner. Our model searches over a space of hyperparameters of number of filters, using batch normalization layers, and number of nodes per dense layer at the top of the model. \n",
        "\n",
        "After training on ~250 images the optimally tuned CNN has an accuracy of 86% on 66 testing images. "
      ],
      "metadata": {
        "id": "QLCI1f8PbMRE"
      }
    },
    {
      "cell_type": "markdown",
      "source": [
        "# Introduction\n",
        "\n",
        "No introduction here. "
      ],
      "metadata": {
        "id": "zy_1XBr-bSPh"
      }
    },
    {
      "cell_type": "markdown",
      "source": [
        "# Set Up"
      ],
      "metadata": {
        "id": "Dmh8BuFycFwi"
      }
    },
    {
      "cell_type": "code",
      "execution_count": null,
      "metadata": {
        "colab": {
          "base_uri": "https://localhost:8080/"
        },
        "id": "TsFEDF-boLgf",
        "outputId": "546658d9-f6f6-48f1-c2af-5d9c55aa1de3"
      },
      "outputs": [
        {
          "output_type": "stream",
          "name": "stdout",
          "text": [
            "2.8.2\n"
          ]
        }
      ],
      "source": [
        "import tensorflow as tf\n",
        "import tensorflow_hub as hub\n",
        "from tensorflow import keras\n",
        "from keras import layers\n",
        "import matplotlib.pyplot as plt\n",
        "import numpy as np # I'm not sure if I need this one\n",
        "import os \n",
        "\n",
        "#for reproducibility of result I use the same seed for the random number generator\n",
        "tf.random.set_seed(42) \n",
        "\n",
        "print(tf.__version__)"
      ]
    },
    {
      "cell_type": "code",
      "source": [
        "# Get the gpu info \n",
        "\n",
        "gpu_info = !nvidia-smi\n",
        "gpu_info = '\\n'.join(gpu_info)\n",
        "if gpu_info.find('failed') >= 0:\n",
        "  print('Not connected to a GPU')\n",
        "else:\n",
        "  print(gpu_info)"
      ],
      "metadata": {
        "colab": {
          "base_uri": "https://localhost:8080/"
        },
        "id": "uWzD2Q_rKTo-",
        "outputId": "8f3c7edb-d745-4903-b69c-7170ff68f22d"
      },
      "execution_count": null,
      "outputs": [
        {
          "output_type": "stream",
          "name": "stdout",
          "text": [
            "Fri Aug 12 00:13:14 2022       \n",
            "+-----------------------------------------------------------------------------+\n",
            "| NVIDIA-SMI 460.32.03    Driver Version: 460.32.03    CUDA Version: 11.2     |\n",
            "|-------------------------------+----------------------+----------------------+\n",
            "| GPU  Name        Persistence-M| Bus-Id        Disp.A | Volatile Uncorr. ECC |\n",
            "| Fan  Temp  Perf  Pwr:Usage/Cap|         Memory-Usage | GPU-Util  Compute M. |\n",
            "|                               |                      |               MIG M. |\n",
            "|===============================+======================+======================|\n",
            "|   0  Tesla P100-PCIE...  Off  | 00000000:00:04.0 Off |                    0 |\n",
            "| N/A   40C    P0    26W / 250W |      0MiB / 16280MiB |      0%      Default |\n",
            "|                               |                      |                  N/A |\n",
            "+-------------------------------+----------------------+----------------------+\n",
            "                                                                               \n",
            "+-----------------------------------------------------------------------------+\n",
            "| Processes:                                                                  |\n",
            "|  GPU   GI   CI        PID   Type   Process name                  GPU Memory |\n",
            "|        ID   ID                                                   Usage      |\n",
            "|=============================================================================|\n",
            "|  No running processes found                                                 |\n",
            "+-----------------------------------------------------------------------------+\n"
          ]
        }
      ]
    },
    {
      "cell_type": "code",
      "source": [
        "data_dir = '/content/drive/MyDrive/X-Ray classification/classification-challenge-starter/Covid19-dataset/'\n",
        "\n",
        "# I use the same seed for reproducability\n",
        "SEED = 123 \n",
        "\n",
        "# Because the X-rays are in grayscale I wanted to bring in the image files \n",
        "# in grayscale. I also wanted to try using the categorical label mode\n",
        "\n",
        "# This is my training set\n",
        "train_ds = tf.keras.utils.image_dataset_from_directory(\n",
        "    data_dir + 'train', \n",
        "    validation_split=0.2,\n",
        "    subset=\"training\",\n",
        "    seed = SEED,\n",
        "    label_mode = 'categorical', \n",
        "    color_mode='grayscale')\n",
        "\n",
        "# This is my validation set\n",
        "val_ds = tf.keras.utils.image_dataset_from_directory(\n",
        "    data_dir + 'train', \n",
        "    validation_split=0.2,\n",
        "    subset=\"validation\",\n",
        "    seed = SEED, \n",
        "    label_mode = 'categorical', \n",
        "    color_mode='grayscale')\n",
        "\n",
        "# This is my testing set\n",
        "test_ds = tf.keras.utils.image_dataset_from_directory(\n",
        "    data_dir + 'test', \n",
        "    seed = SEED, \n",
        "    label_mode = 'categorical', \n",
        "    color_mode='grayscale')"
      ],
      "metadata": {
        "colab": {
          "base_uri": "https://localhost:8080/"
        },
        "id": "th31tOphBigA",
        "outputId": "bf717f94-804d-4bad-ece8-e75b91bf83eb"
      },
      "execution_count": null,
      "outputs": [
        {
          "output_type": "stream",
          "name": "stdout",
          "text": [
            "Found 251 files belonging to 3 classes.\n",
            "Using 201 files for training.\n",
            "Found 251 files belonging to 3 classes.\n",
            "Using 50 files for validation.\n",
            "Found 66 files belonging to 3 classes.\n"
          ]
        }
      ]
    },
    {
      "cell_type": "code",
      "source": [
        "class_names = train_ds.class_names\n",
        "print(class_names)"
      ],
      "metadata": {
        "colab": {
          "base_uri": "https://localhost:8080/"
        },
        "id": "RmyUmddNuJcl",
        "outputId": "f6beb17a-4bd9-47cf-b335-3e5658e11aa0"
      },
      "execution_count": null,
      "outputs": [
        {
          "output_type": "stream",
          "name": "stdout",
          "text": [
            "['Covid', 'Normal', 'Pneumonia']\n"
          ]
        }
      ]
    },
    {
      "cell_type": "markdown",
      "source": [
        "Here I try to optimize my data pipeline setup. It's definitely not necessary for my small dataset but I think it's a good habit for me to always do this step. "
      ],
      "metadata": {
        "id": "EWFzwW1a2PiX"
      }
    },
    {
      "cell_type": "code",
      "source": [
        "AUTOTUNE = tf.data.AUTOTUNE\n",
        "\n",
        "train_ds = train_ds.cache().shuffle(100).prefetch(buffer_size=AUTOTUNE)\n",
        "val_ds = val_ds.cache().prefetch(buffer_size=AUTOTUNE)\n",
        "test_ds = test_ds.cache().prefetch(buffer_size=AUTOTUNE)"
      ],
      "metadata": {
        "id": "Bs9kF-tXOHr1"
      },
      "execution_count": null,
      "outputs": []
    },
    {
      "cell_type": "markdown",
      "source": [
        "# Build a Model to use with the Keras Tuner"
      ],
      "metadata": {
        "id": "4cKE-XuycJY3"
      }
    },
    {
      "cell_type": "code",
      "source": [
        "# Install the keras-tuner\n",
        "!pip install keras-tuner -q \n"
      ],
      "metadata": {
        "id": "RFxtEVAbTIS2",
        "colab": {
          "base_uri": "https://localhost:8080/"
        },
        "outputId": "501031a3-f6b7-4b82-c27d-07149fd3bb0c"
      },
      "execution_count": null,
      "outputs": [
        {
          "output_type": "stream",
          "name": "stdout",
          "text": [
            "\u001b[?25l\r\u001b[K     |██▍                             | 10 kB 30.2 MB/s eta 0:00:01\r\u001b[K     |████▉                           | 20 kB 12.9 MB/s eta 0:00:01\r\u001b[K     |███████▎                        | 30 kB 17.7 MB/s eta 0:00:01\r\u001b[K     |█████████▋                      | 40 kB 6.6 MB/s eta 0:00:01\r\u001b[K     |████████████                    | 51 kB 6.8 MB/s eta 0:00:01\r\u001b[K     |██████████████▌                 | 61 kB 8.0 MB/s eta 0:00:01\r\u001b[K     |█████████████████               | 71 kB 8.4 MB/s eta 0:00:01\r\u001b[K     |███████████████████▎            | 81 kB 8.7 MB/s eta 0:00:01\r\u001b[K     |█████████████████████▊          | 92 kB 9.6 MB/s eta 0:00:01\r\u001b[K     |████████████████████████▏       | 102 kB 7.9 MB/s eta 0:00:01\r\u001b[K     |██████████████████████████▋     | 112 kB 7.9 MB/s eta 0:00:01\r\u001b[K     |█████████████████████████████   | 122 kB 7.9 MB/s eta 0:00:01\r\u001b[K     |███████████████████████████████▍| 133 kB 7.9 MB/s eta 0:00:01\r\u001b[K     |████████████████████████████████| 135 kB 7.9 MB/s \n",
            "\u001b[?25h"
          ]
        }
      ]
    },
    {
      "cell_type": "markdown",
      "source": [
        "When working with the Keras Tuner I like to subclass the Hypermodel class in the Keras Tuner. This allows me to also tune the training, inference, preprocessing, etc. later if I wanted. Another alternative way to set up the Keras Tuner could be to write a model building function. \n",
        "\n",
        "In this example, my model is a standard CNN with  preprocessing layers and the option of using batch normalization. The model allows for various numbers of filters, pool sizes, and nodes per dense layers at the top of the model. However, I only use 3x3 filters in the convolution layers in order to save time on searching the space of hyperparameters. "
      ],
      "metadata": {
        "id": "UivLA27ScUt2"
      }
    },
    {
      "cell_type": "code",
      "source": [
        "import keras_tuner as kt\n",
        "\n",
        "class MyHyperModel(kt.HyperModel):\n",
        "    def build(self, hp):\n",
        "        model = keras.Sequential()\n",
        "        # The images are (256, 256, 1)\n",
        "        # There is only 1 channel because this is grayscale and not rgb\n",
        "        model.add(keras.Input(shape = (256, 256, 1)))\n",
        "        # These are my preprocessing layers\n",
        "        model.add(layers.Rescaling(\n",
        "            1./255))\n",
        "        model.add(layers.RandomFlip(\n",
        "            \"horizontal_and_vertical\"))\n",
        "        # Zoom in or out by 5%\n",
        "        model.add(layers.RandomZoom(height_factor = .15, width_factor= .15))\n",
        "        # Rotate by about 15 degrees - that's a little over 4%\n",
        "        model.add(layers.RandomRotation(\n",
        "            factor = .04))\n",
        "        #Translate by up to 3% up, down, left, or right\n",
        "        model.add(layers.RandomTranslation(\n",
        "            height_factor = 0.1,\n",
        "          width_factor = 0.1))\n",
        "\n",
        "        # choose pool size\n",
        "        POOL_SIZE = hp.Int('pool', min_value = 2, max_value = 4)\n",
        "        # I only use 3x3 size filters to save time on training\n",
        "        # If normalize is true then I use batch normalization\n",
        "        NORMALIZE = hp.Boolean('normalize')\n",
        "        # I decided not to tune the dropout either to save time\n",
        "\n",
        "        model.add(keras.layers.Conv2D(\n",
        "            hp.Int('num_channels_1', min_value = 8, max_value = 16, step = 4), \n",
        "            3, strides = 1, padding='same', activation='relu'))\n",
        "        if NORMALIZE: model.add(keras.layers.BatchNormalization())\n",
        "        model.add(keras.layers.MaxPooling2D(pool_size= POOL_SIZE))\n",
        "\n",
        "        model.add(keras.layers.Conv2D(\n",
        "            hp.Int('num_channels_2', min_value = 8, max_value = 16, step = 4), \n",
        "            3, strides = 1, padding='same', activation='relu'))        \n",
        "        if NORMALIZE: model.add(keras.layers.BatchNormalization())\n",
        "        model.add(keras.layers.MaxPooling2D(pool_size= POOL_SIZE))\n",
        "\n",
        "        model.add(keras.layers.Conv2D(\n",
        "            hp.Int('num_channels_3', min_value = 8, max_value = 16, step = 4), \n",
        "            3, strides = 1, padding='same', activation='relu'))  \n",
        "        if NORMALIZE: model.add(keras.layers.BatchNormalization())\n",
        "        model.add(keras.layers.MaxPooling2D(pool_size= POOL_SIZE))\n",
        "\n",
        "        model.add(keras.layers.Dropout(0.2))\n",
        "        model.add(keras.layers.Flatten())\n",
        "\n",
        "        # I added in two layers of fully connected\n",
        "        model.add(keras.layers.Dense(\n",
        "            hp.Int('num_nodes_1', min_value = 16, max_value = 128, step = 32),\n",
        "            activation=\"relu\"))\n",
        "        model.add(keras.layers.Dropout(0.2))\n",
        "\n",
        "        model.add(keras.layers.Dense(\n",
        "            hp.Int('num_nodes_2', min_value = 16, max_value = 128, step = 32),\n",
        "            activation=\"relu\"))        \n",
        "        model.add(keras.layers.Dropout(0.2))\n",
        "\n",
        "        model.add(keras.layers.Dense(3,activation=\"softmax\"))\n",
        "\n",
        "        model.compile(\n",
        "            optimizer=\"adam\", loss=\"categorical_crossentropy\", metrics=[\"accuracy\"],\n",
        "        )\n",
        "\n",
        "        LEARNING_RATE = hp.Choice('learning_rate', values=[1e-2, 1e-3, 1e-4])\n",
        "\n",
        "        model.compile(\n",
        "            optimizer=keras.optimizers.Adam(learning_rate= LEARNING_RATE),\n",
        "            loss=\"categorical_crossentropy\",\n",
        "            metrics=['categorical_accuracy',keras.metrics.AUC(name = 'auc')]\n",
        "            )\n",
        "  \n",
        "        return model"
      ],
      "metadata": {
        "id": "a13BqDknM3Xo"
      },
      "execution_count": null,
      "outputs": []
    },
    {
      "cell_type": "markdown",
      "source": [
        "## Make a Keras Tuner\n",
        "\n",
        "I'm using the Hyperband style of searching for Hyperparameters. I discuss what this is a little more in my other repository \"Portfolio Project #1\". Roughly speaking it's the newest style of Hyperparameter tuning that works by setting up many different models in tournament-style of training. After some incremental training the best models are kept while the under performing models are discarded. "
      ],
      "metadata": {
        "id": "pdw4szG2equY"
      }
    },
    {
      "cell_type": "code",
      "source": [
        "# Create a Hyperband Tuner \n",
        "tuner = kt.Hyperband(hypermodel = MyHyperModel(),\n",
        "    objective='val_loss',\n",
        "    max_epochs = 3,\n",
        "    factor=3, \n",
        "    executions_per_trial=1, \n",
        "    overwrite = False,\n",
        "    # Set a directory to store the intermediate results.\n",
        "    directory=\"drive/MyDrive/X-Ray classification/CNN/tuning_search\", \n",
        "    project_name=\"intro_to_CNN\"\n",
        "    )"
      ],
      "metadata": {
        "id": "e8h6GedSChfm"
      },
      "execution_count": null,
      "outputs": []
    },
    {
      "cell_type": "markdown",
      "source": [
        "## Search the Space of Hyperparameters"
      ],
      "metadata": {
        "id": "9xIBUDanet6a"
      }
    },
    {
      "cell_type": "code",
      "source": [
        "# Create an early stopping callback to save time on training\n",
        "es = tf.keras.callbacks.EarlyStopping(monitor='val_loss', mode = 'min', patience=5)\n",
        "\n",
        "# Search the parameter space\n",
        "tuner.search(\n",
        "    train_ds, \n",
        "    validation_data = val_ds, \n",
        "    callbacks=[es]\n",
        "    )"
      ],
      "metadata": {
        "colab": {
          "base_uri": "https://localhost:8080/"
        },
        "id": "XvDYHrOgD-qq",
        "outputId": "a70bb32f-ffb8-4b1b-e2d0-551246b52e5e"
      },
      "execution_count": null,
      "outputs": [
        {
          "output_type": "stream",
          "name": "stdout",
          "text": [
            "Trial 6 Complete [00h 00m 03s]\n",
            "val_loss: 1.0355486869812012\n",
            "\n",
            "Best val_loss So Far: 0.9155088067054749\n",
            "Total elapsed time: 00h 00m 55s\n"
          ]
        }
      ]
    },
    {
      "cell_type": "markdown",
      "source": [
        "## Show the results of the Tuner search"
      ],
      "metadata": {
        "id": "L2tCCHFVe2oA"
      }
    },
    {
      "cell_type": "code",
      "source": [
        "# Print the best parameters\n",
        "tuner.results_summary(num_trials=1)\n",
        "\n",
        "# Get the optimal hyperparameters\n",
        "best_hps=tuner.get_best_hyperparameters(num_trials=1)[0]\n",
        "\n",
        "# Build a model\n",
        "model = tuner.hypermodel.build(best_hps)\n",
        "\n",
        "print(model.summary())"
      ],
      "metadata": {
        "colab": {
          "base_uri": "https://localhost:8080/"
        },
        "id": "28Z9ZVKXFouX",
        "outputId": "b183075c-38e7-4cb3-91c5-2548fd485378"
      },
      "execution_count": null,
      "outputs": [
        {
          "output_type": "stream",
          "name": "stdout",
          "text": [
            "Results summary\n",
            "Results in drive/MyDrive/X-Ray classification/CNN/tuning_search/intro_to_CNN\n",
            "Showing 1 best trials\n",
            "<keras_tuner.engine.objective.Objective object at 0x7f52fda39550>\n",
            "Trial summary\n",
            "Hyperparameters:\n",
            "pool: 3\n",
            "normalize: True\n",
            "num_channels_1: 8\n",
            "num_channels_2: 8\n",
            "num_channels_3: 16\n",
            "num_nodes_1: 112\n",
            "num_nodes_2: 16\n",
            "learning_rate: 0.001\n",
            "tuner/epochs: 3\n",
            "tuner/initial_epoch: 0\n",
            "tuner/bracket: 0\n",
            "tuner/round: 0\n",
            "Score: 0.9155088067054749\n",
            "Model: \"sequential_1\"\n",
            "_________________________________________________________________\n",
            " Layer (type)                Output Shape              Param #   \n",
            "=================================================================\n",
            " rescaling_1 (Rescaling)     (None, 256, 256, 1)       0         \n",
            "                                                                 \n",
            " random_flip_1 (RandomFlip)  (None, 256, 256, 1)       0         \n",
            "                                                                 \n",
            " random_zoom_1 (RandomZoom)  (None, 256, 256, 1)       0         \n",
            "                                                                 \n",
            " random_rotation_1 (RandomRo  (None, 256, 256, 1)      0         \n",
            " tation)                                                         \n",
            "                                                                 \n",
            " random_translation_1 (Rando  (None, 256, 256, 1)      0         \n",
            " mTranslation)                                                   \n",
            "                                                                 \n",
            " conv2d_3 (Conv2D)           (None, 256, 256, 8)       80        \n",
            "                                                                 \n",
            " batch_normalization (BatchN  (None, 256, 256, 8)      32        \n",
            " ormalization)                                                   \n",
            "                                                                 \n",
            " max_pooling2d_3 (MaxPooling  (None, 85, 85, 8)        0         \n",
            " 2D)                                                             \n",
            "                                                                 \n",
            " conv2d_4 (Conv2D)           (None, 85, 85, 8)         584       \n",
            "                                                                 \n",
            " batch_normalization_1 (Batc  (None, 85, 85, 8)        32        \n",
            " hNormalization)                                                 \n",
            "                                                                 \n",
            " max_pooling2d_4 (MaxPooling  (None, 28, 28, 8)        0         \n",
            " 2D)                                                             \n",
            "                                                                 \n",
            " conv2d_5 (Conv2D)           (None, 28, 28, 16)        1168      \n",
            "                                                                 \n",
            " batch_normalization_2 (Batc  (None, 28, 28, 16)       64        \n",
            " hNormalization)                                                 \n",
            "                                                                 \n",
            " max_pooling2d_5 (MaxPooling  (None, 9, 9, 16)         0         \n",
            " 2D)                                                             \n",
            "                                                                 \n",
            " dropout_3 (Dropout)         (None, 9, 9, 16)          0         \n",
            "                                                                 \n",
            " flatten_1 (Flatten)         (None, 1296)              0         \n",
            "                                                                 \n",
            " dense_3 (Dense)             (None, 112)               145264    \n",
            "                                                                 \n",
            " dropout_4 (Dropout)         (None, 112)               0         \n",
            "                                                                 \n",
            " dense_4 (Dense)             (None, 16)                1808      \n",
            "                                                                 \n",
            " dropout_5 (Dropout)         (None, 16)                0         \n",
            "                                                                 \n",
            " dense_5 (Dense)             (None, 3)                 51        \n",
            "                                                                 \n",
            "=================================================================\n",
            "Total params: 149,083\n",
            "Trainable params: 149,019\n",
            "Non-trainable params: 64\n",
            "_________________________________________________________________\n",
            "None\n"
          ]
        }
      ]
    },
    {
      "cell_type": "markdown",
      "source": [
        "# Use the Best Model from the Tuner Search"
      ],
      "metadata": {
        "id": "FSJuA-mtfk5j"
      }
    },
    {
      "cell_type": "markdown",
      "source": [
        "## Set up Checkpoint Callbacks"
      ],
      "metadata": {
        "id": "Ui76lc6bgHmL"
      }
    },
    {
      "cell_type": "code",
      "execution_count": null,
      "metadata": {
        "id": "ij78yCIvdImF"
      },
      "outputs": [],
      "source": [
        "# save one checkpoint at a time into my drive\n",
        "checkpoint_path = \"drive/MyDrive/X-Ray classification/CNN/training/cp.ckpt\"\n",
        "checkpoint_dir = os.path.dirname(checkpoint_path)"
      ]
    },
    {
      "cell_type": "code",
      "execution_count": null,
      "metadata": {
        "id": "-rHR9Jpqe2J-"
      },
      "outputs": [],
      "source": [
        "# Create a callback that saves the model's weights while training\n",
        "cp = tf.keras.callbacks.ModelCheckpoint(filepath=checkpoint_path,\n",
        "                                        save_weights_only=True,\n",
        "                                        save_best_only=True,\n",
        "                                        verbose=1)"
      ]
    },
    {
      "cell_type": "markdown",
      "source": [
        "## Create an Optimally Tuned Model"
      ],
      "metadata": {
        "id": "4RovuLK6gMZF"
      }
    },
    {
      "cell_type": "code",
      "source": [
        "# Create a copy of the best found model \n",
        "tuned_model = tuner.hypermodel.build(best_hps)\n",
        "\n",
        "# Retrain the model\n",
        "tuned_model.fit(train_ds, validation_data = val_ds, epochs=80, callbacks=[cp])"
      ],
      "metadata": {
        "colab": {
          "base_uri": "https://localhost:8080/"
        },
        "id": "_21RxarMI_gL",
        "outputId": "2bca110c-b0ff-4b75-d7f0-ecd8a1110cef"
      },
      "execution_count": null,
      "outputs": [
        {
          "output_type": "stream",
          "name": "stdout",
          "text": [
            "Epoch 1/80\n",
            "7/7 [==============================] - ETA: 0s - loss: 1.8008 - categorical_accuracy: 0.3483 - auc: 0.5532\n",
            "Epoch 1: val_loss improved from inf to 1.08423, saving model to drive/MyDrive/X-Ray classification/CNN/training/cp.ckpt\n",
            "7/7 [==============================] - 2s 126ms/step - loss: 1.8008 - categorical_accuracy: 0.3483 - auc: 0.5532 - val_loss: 1.0842 - val_categorical_accuracy: 0.6200 - val_auc: 0.8154\n",
            "Epoch 2/80\n",
            "7/7 [==============================] - ETA: 0s - loss: 1.0037 - categorical_accuracy: 0.5622 - auc: 0.7201\n",
            "Epoch 2: val_loss improved from 1.08423 to 1.02832, saving model to drive/MyDrive/X-Ray classification/CNN/training/cp.ckpt\n",
            "7/7 [==============================] - 0s 41ms/step - loss: 1.0037 - categorical_accuracy: 0.5622 - auc: 0.7201 - val_loss: 1.0283 - val_categorical_accuracy: 0.4800 - val_auc: 0.7576\n",
            "Epoch 3/80\n",
            "7/7 [==============================] - ETA: 0s - loss: 0.8638 - categorical_accuracy: 0.6070 - auc: 0.7899\n",
            "Epoch 3: val_loss improved from 1.02832 to 1.01055, saving model to drive/MyDrive/X-Ray classification/CNN/training/cp.ckpt\n",
            "7/7 [==============================] - 0s 41ms/step - loss: 0.8638 - categorical_accuracy: 0.6070 - auc: 0.7899 - val_loss: 1.0105 - val_categorical_accuracy: 0.4800 - val_auc: 0.7243\n",
            "Epoch 4/80\n",
            "7/7 [==============================] - ETA: 0s - loss: 0.6491 - categorical_accuracy: 0.7065 - auc: 0.8885\n",
            "Epoch 4: val_loss did not improve from 1.01055\n",
            "7/7 [==============================] - 0s 26ms/step - loss: 0.6491 - categorical_accuracy: 0.7065 - auc: 0.8885 - val_loss: 1.0793 - val_categorical_accuracy: 0.4800 - val_auc: 0.7203\n",
            "Epoch 5/80\n",
            "7/7 [==============================] - ETA: 0s - loss: 0.6006 - categorical_accuracy: 0.7463 - auc: 0.8985\n",
            "Epoch 5: val_loss did not improve from 1.01055\n",
            "7/7 [==============================] - 0s 26ms/step - loss: 0.6006 - categorical_accuracy: 0.7463 - auc: 0.8985 - val_loss: 1.2644 - val_categorical_accuracy: 0.4800 - val_auc: 0.7187\n",
            "Epoch 6/80\n",
            "7/7 [==============================] - ETA: 0s - loss: 0.5007 - categorical_accuracy: 0.7811 - auc: 0.9300\n",
            "Epoch 6: val_loss did not improve from 1.01055\n",
            "7/7 [==============================] - 0s 26ms/step - loss: 0.5007 - categorical_accuracy: 0.7811 - auc: 0.9300 - val_loss: 1.5367 - val_categorical_accuracy: 0.4800 - val_auc: 0.7228\n",
            "Epoch 7/80\n",
            "7/7 [==============================] - ETA: 0s - loss: 0.5303 - categorical_accuracy: 0.7910 - auc: 0.9255\n",
            "Epoch 7: val_loss did not improve from 1.01055\n",
            "7/7 [==============================] - 0s 26ms/step - loss: 0.5303 - categorical_accuracy: 0.7910 - auc: 0.9255 - val_loss: 1.8774 - val_categorical_accuracy: 0.4800 - val_auc: 0.7139\n",
            "Epoch 8/80\n",
            "7/7 [==============================] - ETA: 0s - loss: 0.4928 - categorical_accuracy: 0.8010 - auc: 0.9325\n",
            "Epoch 8: val_loss did not improve from 1.01055\n",
            "7/7 [==============================] - 0s 27ms/step - loss: 0.4928 - categorical_accuracy: 0.8010 - auc: 0.9325 - val_loss: 2.2136 - val_categorical_accuracy: 0.4800 - val_auc: 0.7104\n",
            "Epoch 9/80\n",
            "7/7 [==============================] - ETA: 0s - loss: 0.5059 - categorical_accuracy: 0.7861 - auc: 0.9324\n",
            "Epoch 9: val_loss did not improve from 1.01055\n",
            "7/7 [==============================] - 0s 27ms/step - loss: 0.5059 - categorical_accuracy: 0.7861 - auc: 0.9324 - val_loss: 2.4767 - val_categorical_accuracy: 0.4800 - val_auc: 0.6950\n",
            "Epoch 10/80\n",
            "7/7 [==============================] - ETA: 0s - loss: 0.5270 - categorical_accuracy: 0.7861 - auc: 0.9283\n",
            "Epoch 10: val_loss did not improve from 1.01055\n",
            "7/7 [==============================] - 0s 27ms/step - loss: 0.5270 - categorical_accuracy: 0.7861 - auc: 0.9283 - val_loss: 2.8081 - val_categorical_accuracy: 0.4800 - val_auc: 0.6717\n",
            "Epoch 11/80\n",
            "7/7 [==============================] - ETA: 0s - loss: 0.4466 - categorical_accuracy: 0.7910 - auc: 0.9406\n",
            "Epoch 11: val_loss did not improve from 1.01055\n",
            "7/7 [==============================] - 0s 26ms/step - loss: 0.4466 - categorical_accuracy: 0.7910 - auc: 0.9406 - val_loss: 3.1711 - val_categorical_accuracy: 0.4800 - val_auc: 0.6554\n",
            "Epoch 12/80\n",
            "7/7 [==============================] - ETA: 0s - loss: 0.4257 - categorical_accuracy: 0.8408 - auc: 0.9492\n",
            "Epoch 12: val_loss did not improve from 1.01055\n",
            "7/7 [==============================] - 0s 27ms/step - loss: 0.4257 - categorical_accuracy: 0.8408 - auc: 0.9492 - val_loss: 3.4526 - val_categorical_accuracy: 0.4800 - val_auc: 0.6148\n",
            "Epoch 13/80\n",
            "7/7 [==============================] - ETA: 0s - loss: 0.4024 - categorical_accuracy: 0.8308 - auc: 0.9545\n",
            "Epoch 13: val_loss did not improve from 1.01055\n",
            "7/7 [==============================] - 0s 27ms/step - loss: 0.4024 - categorical_accuracy: 0.8308 - auc: 0.9545 - val_loss: 3.7966 - val_categorical_accuracy: 0.4800 - val_auc: 0.6100\n",
            "Epoch 14/80\n",
            "7/7 [==============================] - ETA: 0s - loss: 0.4048 - categorical_accuracy: 0.8259 - auc: 0.9522\n",
            "Epoch 14: val_loss did not improve from 1.01055\n",
            "7/7 [==============================] - 0s 26ms/step - loss: 0.4048 - categorical_accuracy: 0.8259 - auc: 0.9522 - val_loss: 4.0528 - val_categorical_accuracy: 0.4800 - val_auc: 0.6100\n",
            "Epoch 15/80\n",
            "6/7 [========================>.....] - ETA: 0s - loss: 0.4252 - categorical_accuracy: 0.7812 - auc: 0.9455\n",
            "Epoch 15: val_loss did not improve from 1.01055\n",
            "7/7 [==============================] - 0s 28ms/step - loss: 0.4209 - categorical_accuracy: 0.7811 - auc: 0.9465 - val_loss: 4.4907 - val_categorical_accuracy: 0.4800 - val_auc: 0.6100\n",
            "Epoch 16/80\n",
            "7/7 [==============================] - ETA: 0s - loss: 0.3888 - categorical_accuracy: 0.8209 - auc: 0.9586\n",
            "Epoch 16: val_loss did not improve from 1.01055\n",
            "7/7 [==============================] - 0s 26ms/step - loss: 0.3888 - categorical_accuracy: 0.8209 - auc: 0.9586 - val_loss: 4.8563 - val_categorical_accuracy: 0.4800 - val_auc: 0.6100\n",
            "Epoch 17/80\n",
            "7/7 [==============================] - ETA: 0s - loss: 0.3646 - categorical_accuracy: 0.8458 - auc: 0.9632\n",
            "Epoch 17: val_loss did not improve from 1.01055\n",
            "7/7 [==============================] - 0s 28ms/step - loss: 0.3646 - categorical_accuracy: 0.8458 - auc: 0.9632 - val_loss: 5.3691 - val_categorical_accuracy: 0.4800 - val_auc: 0.6100\n",
            "Epoch 18/80\n",
            "7/7 [==============================] - ETA: 0s - loss: 0.3483 - categorical_accuracy: 0.8657 - auc: 0.9657\n",
            "Epoch 18: val_loss did not improve from 1.01055\n",
            "7/7 [==============================] - 0s 27ms/step - loss: 0.3483 - categorical_accuracy: 0.8657 - auc: 0.9657 - val_loss: 5.7206 - val_categorical_accuracy: 0.4800 - val_auc: 0.6100\n",
            "Epoch 19/80\n",
            "7/7 [==============================] - ETA: 0s - loss: 0.3765 - categorical_accuracy: 0.8358 - auc: 0.9614\n",
            "Epoch 19: val_loss did not improve from 1.01055\n",
            "7/7 [==============================] - 0s 26ms/step - loss: 0.3765 - categorical_accuracy: 0.8358 - auc: 0.9614 - val_loss: 5.8270 - val_categorical_accuracy: 0.4800 - val_auc: 0.6100\n",
            "Epoch 20/80\n",
            "7/7 [==============================] - ETA: 0s - loss: 0.4038 - categorical_accuracy: 0.8607 - auc: 0.9585\n",
            "Epoch 20: val_loss did not improve from 1.01055\n",
            "7/7 [==============================] - 0s 27ms/step - loss: 0.4038 - categorical_accuracy: 0.8607 - auc: 0.9585 - val_loss: 5.9700 - val_categorical_accuracy: 0.4800 - val_auc: 0.6100\n",
            "Epoch 21/80\n",
            "7/7 [==============================] - ETA: 0s - loss: 0.3701 - categorical_accuracy: 0.8557 - auc: 0.9616\n",
            "Epoch 21: val_loss did not improve from 1.01055\n",
            "7/7 [==============================] - 0s 28ms/step - loss: 0.3701 - categorical_accuracy: 0.8557 - auc: 0.9616 - val_loss: 6.1330 - val_categorical_accuracy: 0.4800 - val_auc: 0.6100\n",
            "Epoch 22/80\n",
            "7/7 [==============================] - ETA: 0s - loss: 0.4128 - categorical_accuracy: 0.8109 - auc: 0.9536\n",
            "Epoch 22: val_loss did not improve from 1.01055\n",
            "7/7 [==============================] - 0s 25ms/step - loss: 0.4128 - categorical_accuracy: 0.8109 - auc: 0.9536 - val_loss: 6.6901 - val_categorical_accuracy: 0.4800 - val_auc: 0.6100\n",
            "Epoch 23/80\n",
            "7/7 [==============================] - ETA: 0s - loss: 0.3401 - categorical_accuracy: 0.8458 - auc: 0.9686\n",
            "Epoch 23: val_loss did not improve from 1.01055\n",
            "7/7 [==============================] - 0s 25ms/step - loss: 0.3401 - categorical_accuracy: 0.8458 - auc: 0.9686 - val_loss: 6.9632 - val_categorical_accuracy: 0.4800 - val_auc: 0.6100\n",
            "Epoch 24/80\n",
            "7/7 [==============================] - ETA: 0s - loss: 0.3836 - categorical_accuracy: 0.8259 - auc: 0.9588\n",
            "Epoch 24: val_loss did not improve from 1.01055\n",
            "7/7 [==============================] - 0s 26ms/step - loss: 0.3836 - categorical_accuracy: 0.8259 - auc: 0.9588 - val_loss: 7.4332 - val_categorical_accuracy: 0.4800 - val_auc: 0.6100\n",
            "Epoch 25/80\n",
            "7/7 [==============================] - ETA: 0s - loss: 0.3352 - categorical_accuracy: 0.8756 - auc: 0.9686\n",
            "Epoch 25: val_loss did not improve from 1.01055\n",
            "7/7 [==============================] - 0s 28ms/step - loss: 0.3352 - categorical_accuracy: 0.8756 - auc: 0.9686 - val_loss: 7.7933 - val_categorical_accuracy: 0.4800 - val_auc: 0.6100\n",
            "Epoch 26/80\n",
            "6/7 [========================>.....] - ETA: 0s - loss: 0.3329 - categorical_accuracy: 0.8646 - auc: 0.9691\n",
            "Epoch 26: val_loss did not improve from 1.01055\n",
            "7/7 [==============================] - 0s 27ms/step - loss: 0.3275 - categorical_accuracy: 0.8657 - auc: 0.9701 - val_loss: 7.6039 - val_categorical_accuracy: 0.4800 - val_auc: 0.6100\n",
            "Epoch 27/80\n",
            "7/7 [==============================] - ETA: 0s - loss: 0.3037 - categorical_accuracy: 0.8756 - auc: 0.9752\n",
            "Epoch 27: val_loss did not improve from 1.01055\n",
            "7/7 [==============================] - 0s 29ms/step - loss: 0.3037 - categorical_accuracy: 0.8756 - auc: 0.9752 - val_loss: 7.5488 - val_categorical_accuracy: 0.4800 - val_auc: 0.6100\n",
            "Epoch 28/80\n",
            "7/7 [==============================] - ETA: 0s - loss: 0.3547 - categorical_accuracy: 0.8458 - auc: 0.9661\n",
            "Epoch 28: val_loss did not improve from 1.01055\n",
            "7/7 [==============================] - 0s 26ms/step - loss: 0.3547 - categorical_accuracy: 0.8458 - auc: 0.9661 - val_loss: 7.5617 - val_categorical_accuracy: 0.4800 - val_auc: 0.6100\n",
            "Epoch 29/80\n",
            "7/7 [==============================] - ETA: 0s - loss: 0.2982 - categorical_accuracy: 0.8856 - auc: 0.9739\n",
            "Epoch 29: val_loss did not improve from 1.01055\n",
            "7/7 [==============================] - 0s 26ms/step - loss: 0.2982 - categorical_accuracy: 0.8856 - auc: 0.9739 - val_loss: 7.3727 - val_categorical_accuracy: 0.4800 - val_auc: 0.6100\n",
            "Epoch 30/80\n",
            "7/7 [==============================] - ETA: 0s - loss: 0.2784 - categorical_accuracy: 0.8856 - auc: 0.9767\n",
            "Epoch 30: val_loss did not improve from 1.01055\n",
            "7/7 [==============================] - 0s 27ms/step - loss: 0.2784 - categorical_accuracy: 0.8856 - auc: 0.9767 - val_loss: 7.1538 - val_categorical_accuracy: 0.4800 - val_auc: 0.6100\n",
            "Epoch 31/80\n",
            "6/7 [========================>.....] - ETA: 0s - loss: 0.3387 - categorical_accuracy: 0.8542 - auc: 0.9671\n",
            "Epoch 31: val_loss did not improve from 1.01055\n",
            "7/7 [==============================] - 0s 29ms/step - loss: 0.3265 - categorical_accuracy: 0.8607 - auc: 0.9694 - val_loss: 6.6555 - val_categorical_accuracy: 0.4800 - val_auc: 0.6124\n",
            "Epoch 32/80\n",
            "7/7 [==============================] - ETA: 0s - loss: 0.2910 - categorical_accuracy: 0.8905 - auc: 0.9765\n",
            "Epoch 32: val_loss did not improve from 1.01055\n",
            "7/7 [==============================] - 0s 27ms/step - loss: 0.2910 - categorical_accuracy: 0.8905 - auc: 0.9765 - val_loss: 6.8483 - val_categorical_accuracy: 0.4800 - val_auc: 0.6198\n",
            "Epoch 33/80\n",
            "7/7 [==============================] - ETA: 0s - loss: 0.3376 - categorical_accuracy: 0.8657 - auc: 0.9665\n",
            "Epoch 33: val_loss did not improve from 1.01055\n",
            "7/7 [==============================] - 0s 26ms/step - loss: 0.3376 - categorical_accuracy: 0.8657 - auc: 0.9665 - val_loss: 6.8592 - val_categorical_accuracy: 0.4800 - val_auc: 0.6198\n",
            "Epoch 34/80\n",
            "7/7 [==============================] - ETA: 0s - loss: 0.3420 - categorical_accuracy: 0.8657 - auc: 0.9674\n",
            "Epoch 34: val_loss did not improve from 1.01055\n",
            "7/7 [==============================] - 0s 27ms/step - loss: 0.3420 - categorical_accuracy: 0.8657 - auc: 0.9674 - val_loss: 7.0293 - val_categorical_accuracy: 0.4800 - val_auc: 0.6198\n",
            "Epoch 35/80\n",
            "7/7 [==============================] - ETA: 0s - loss: 0.2745 - categorical_accuracy: 0.8706 - auc: 0.9789\n",
            "Epoch 35: val_loss did not improve from 1.01055\n",
            "7/7 [==============================] - 0s 26ms/step - loss: 0.2745 - categorical_accuracy: 0.8706 - auc: 0.9789 - val_loss: 6.5477 - val_categorical_accuracy: 0.4800 - val_auc: 0.6172\n",
            "Epoch 36/80\n",
            "7/7 [==============================] - ETA: 0s - loss: 0.2814 - categorical_accuracy: 0.8756 - auc: 0.9765\n",
            "Epoch 36: val_loss did not improve from 1.01055\n",
            "7/7 [==============================] - 0s 26ms/step - loss: 0.2814 - categorical_accuracy: 0.8756 - auc: 0.9765 - val_loss: 6.3131 - val_categorical_accuracy: 0.4800 - val_auc: 0.6268\n",
            "Epoch 37/80\n",
            "7/7 [==============================] - ETA: 0s - loss: 0.3637 - categorical_accuracy: 0.8507 - auc: 0.9646\n",
            "Epoch 37: val_loss did not improve from 1.01055\n",
            "7/7 [==============================] - 0s 26ms/step - loss: 0.3637 - categorical_accuracy: 0.8507 - auc: 0.9646 - val_loss: 7.1096 - val_categorical_accuracy: 0.4800 - val_auc: 0.6173\n",
            "Epoch 38/80\n",
            "7/7 [==============================] - ETA: 0s - loss: 0.3451 - categorical_accuracy: 0.8557 - auc: 0.9679\n",
            "Epoch 38: val_loss did not improve from 1.01055\n",
            "7/7 [==============================] - 0s 26ms/step - loss: 0.3451 - categorical_accuracy: 0.8557 - auc: 0.9679 - val_loss: 9.4893 - val_categorical_accuracy: 0.4800 - val_auc: 0.6100\n",
            "Epoch 39/80\n",
            "6/7 [========================>.....] - ETA: 0s - loss: 0.2986 - categorical_accuracy: 0.8698 - auc: 0.9747\n",
            "Epoch 39: val_loss did not improve from 1.01055\n",
            "7/7 [==============================] - 0s 28ms/step - loss: 0.2974 - categorical_accuracy: 0.8706 - auc: 0.9746 - val_loss: 9.4179 - val_categorical_accuracy: 0.4800 - val_auc: 0.6100\n",
            "Epoch 40/80\n",
            "7/7 [==============================] - ETA: 0s - loss: 0.2714 - categorical_accuracy: 0.8905 - auc: 0.9777\n",
            "Epoch 40: val_loss did not improve from 1.01055\n",
            "7/7 [==============================] - 0s 27ms/step - loss: 0.2714 - categorical_accuracy: 0.8905 - auc: 0.9777 - val_loss: 9.3059 - val_categorical_accuracy: 0.4800 - val_auc: 0.6100\n",
            "Epoch 41/80\n",
            "7/7 [==============================] - ETA: 0s - loss: 0.3375 - categorical_accuracy: 0.8706 - auc: 0.9695\n",
            "Epoch 41: val_loss did not improve from 1.01055\n",
            "7/7 [==============================] - 0s 28ms/step - loss: 0.3375 - categorical_accuracy: 0.8706 - auc: 0.9695 - val_loss: 9.3635 - val_categorical_accuracy: 0.4800 - val_auc: 0.6100\n",
            "Epoch 42/80\n",
            "7/7 [==============================] - ETA: 0s - loss: 0.2745 - categorical_accuracy: 0.9005 - auc: 0.9787\n",
            "Epoch 42: val_loss did not improve from 1.01055\n",
            "7/7 [==============================] - 0s 26ms/step - loss: 0.2745 - categorical_accuracy: 0.9005 - auc: 0.9787 - val_loss: 9.6033 - val_categorical_accuracy: 0.4800 - val_auc: 0.6100\n",
            "Epoch 43/80\n",
            "7/7 [==============================] - ETA: 0s - loss: 0.2922 - categorical_accuracy: 0.9055 - auc: 0.9761\n",
            "Epoch 43: val_loss did not improve from 1.01055\n",
            "7/7 [==============================] - 0s 25ms/step - loss: 0.2922 - categorical_accuracy: 0.9055 - auc: 0.9761 - val_loss: 10.4521 - val_categorical_accuracy: 0.4800 - val_auc: 0.6100\n",
            "Epoch 44/80\n",
            "7/7 [==============================] - ETA: 0s - loss: 0.3053 - categorical_accuracy: 0.8856 - auc: 0.9737\n",
            "Epoch 44: val_loss did not improve from 1.01055\n",
            "7/7 [==============================] - 0s 25ms/step - loss: 0.3053 - categorical_accuracy: 0.8856 - auc: 0.9737 - val_loss: 10.2300 - val_categorical_accuracy: 0.4800 - val_auc: 0.6100\n",
            "Epoch 45/80\n",
            "6/7 [========================>.....] - ETA: 0s - loss: 0.2419 - categorical_accuracy: 0.9112 - auc: 0.9828\n",
            "Epoch 45: val_loss did not improve from 1.01055\n",
            "7/7 [==============================] - 0s 29ms/step - loss: 0.2462 - categorical_accuracy: 0.9104 - auc: 0.9818 - val_loss: 7.7206 - val_categorical_accuracy: 0.4800 - val_auc: 0.6173\n",
            "Epoch 46/80\n",
            "7/7 [==============================] - ETA: 0s - loss: 0.3109 - categorical_accuracy: 0.8706 - auc: 0.9736\n",
            "Epoch 46: val_loss did not improve from 1.01055\n",
            "7/7 [==============================] - 0s 25ms/step - loss: 0.3109 - categorical_accuracy: 0.8706 - auc: 0.9736 - val_loss: 7.3190 - val_categorical_accuracy: 0.5000 - val_auc: 0.6175\n",
            "Epoch 47/80\n",
            "7/7 [==============================] - ETA: 0s - loss: 0.2830 - categorical_accuracy: 0.8905 - auc: 0.9767\n",
            "Epoch 47: val_loss did not improve from 1.01055\n",
            "7/7 [==============================] - 0s 25ms/step - loss: 0.2830 - categorical_accuracy: 0.8905 - auc: 0.9767 - val_loss: 8.9414 - val_categorical_accuracy: 0.4800 - val_auc: 0.6198\n",
            "Epoch 48/80\n",
            "7/7 [==============================] - ETA: 0s - loss: 0.2622 - categorical_accuracy: 0.8905 - auc: 0.9802\n",
            "Epoch 48: val_loss did not improve from 1.01055\n",
            "7/7 [==============================] - 0s 25ms/step - loss: 0.2622 - categorical_accuracy: 0.8905 - auc: 0.9802 - val_loss: 5.1226 - val_categorical_accuracy: 0.5000 - val_auc: 0.6554\n",
            "Epoch 49/80\n",
            "7/7 [==============================] - ETA: 0s - loss: 0.2720 - categorical_accuracy: 0.9005 - auc: 0.9774\n",
            "Epoch 49: val_loss did not improve from 1.01055\n",
            "7/7 [==============================] - 0s 27ms/step - loss: 0.2720 - categorical_accuracy: 0.9005 - auc: 0.9774 - val_loss: 2.6215 - val_categorical_accuracy: 0.6000 - val_auc: 0.7476\n",
            "Epoch 50/80\n",
            "7/7 [==============================] - ETA: 0s - loss: 0.2579 - categorical_accuracy: 0.9005 - auc: 0.9821\n",
            "Epoch 50: val_loss did not improve from 1.01055\n",
            "7/7 [==============================] - 0s 27ms/step - loss: 0.2579 - categorical_accuracy: 0.9005 - auc: 0.9821 - val_loss: 3.7492 - val_categorical_accuracy: 0.5200 - val_auc: 0.7043\n",
            "Epoch 51/80\n",
            "7/7 [==============================] - ETA: 0s - loss: 0.2448 - categorical_accuracy: 0.8856 - auc: 0.9833\n",
            "Epoch 51: val_loss did not improve from 1.01055\n",
            "7/7 [==============================] - 0s 25ms/step - loss: 0.2448 - categorical_accuracy: 0.8856 - auc: 0.9833 - val_loss: 2.9017 - val_categorical_accuracy: 0.5800 - val_auc: 0.7261\n",
            "Epoch 52/80\n",
            "7/7 [==============================] - ETA: 0s - loss: 0.2413 - categorical_accuracy: 0.8905 - auc: 0.9826\n",
            "Epoch 52: val_loss did not improve from 1.01055\n",
            "7/7 [==============================] - 0s 25ms/step - loss: 0.2413 - categorical_accuracy: 0.8905 - auc: 0.9826 - val_loss: 2.8307 - val_categorical_accuracy: 0.6200 - val_auc: 0.7361\n",
            "Epoch 53/80\n",
            "7/7 [==============================] - ETA: 0s - loss: 0.2978 - categorical_accuracy: 0.8557 - auc: 0.9740\n",
            "Epoch 53: val_loss did not improve from 1.01055\n",
            "7/7 [==============================] - 0s 26ms/step - loss: 0.2978 - categorical_accuracy: 0.8557 - auc: 0.9740 - val_loss: 1.9171 - val_categorical_accuracy: 0.6400 - val_auc: 0.8277\n",
            "Epoch 54/80\n",
            "7/7 [==============================] - ETA: 0s - loss: 0.2950 - categorical_accuracy: 0.8657 - auc: 0.9756\n",
            "Epoch 54: val_loss improved from 1.01055 to 0.67558, saving model to drive/MyDrive/X-Ray classification/CNN/training/cp.ckpt\n",
            "7/7 [==============================] - 0s 43ms/step - loss: 0.2950 - categorical_accuracy: 0.8657 - auc: 0.9756 - val_loss: 0.6756 - val_categorical_accuracy: 0.7800 - val_auc: 0.9452\n",
            "Epoch 55/80\n",
            "7/7 [==============================] - ETA: 0s - loss: 0.2807 - categorical_accuracy: 0.8955 - auc: 0.9762\n",
            "Epoch 55: val_loss improved from 0.67558 to 0.57557, saving model to drive/MyDrive/X-Ray classification/CNN/training/cp.ckpt\n",
            "7/7 [==============================] - 0s 37ms/step - loss: 0.2807 - categorical_accuracy: 0.8955 - auc: 0.9762 - val_loss: 0.5756 - val_categorical_accuracy: 0.8200 - val_auc: 0.9512\n",
            "Epoch 56/80\n",
            "7/7 [==============================] - ETA: 0s - loss: 0.2347 - categorical_accuracy: 0.9104 - auc: 0.9839\n",
            "Epoch 56: val_loss did not improve from 0.57557\n",
            "7/7 [==============================] - 0s 26ms/step - loss: 0.2347 - categorical_accuracy: 0.9104 - auc: 0.9839 - val_loss: 0.5882 - val_categorical_accuracy: 0.7800 - val_auc: 0.9520\n",
            "Epoch 57/80\n",
            "7/7 [==============================] - ETA: 0s - loss: 0.2377 - categorical_accuracy: 0.9104 - auc: 0.9824\n",
            "Epoch 57: val_loss did not improve from 0.57557\n",
            "7/7 [==============================] - 0s 26ms/step - loss: 0.2377 - categorical_accuracy: 0.9104 - auc: 0.9824 - val_loss: 0.6008 - val_categorical_accuracy: 0.7800 - val_auc: 0.9476\n",
            "Epoch 58/80\n",
            "7/7 [==============================] - ETA: 0s - loss: 0.2589 - categorical_accuracy: 0.8955 - auc: 0.9811\n",
            "Epoch 58: val_loss did not improve from 0.57557\n",
            "7/7 [==============================] - 0s 26ms/step - loss: 0.2589 - categorical_accuracy: 0.8955 - auc: 0.9811 - val_loss: 0.7034 - val_categorical_accuracy: 0.7400 - val_auc: 0.9418\n",
            "Epoch 59/80\n",
            "7/7 [==============================] - ETA: 0s - loss: 0.2838 - categorical_accuracy: 0.8806 - auc: 0.9759\n",
            "Epoch 59: val_loss improved from 0.57557 to 0.53191, saving model to drive/MyDrive/X-Ray classification/CNN/training/cp.ckpt\n",
            "7/7 [==============================] - 0s 38ms/step - loss: 0.2838 - categorical_accuracy: 0.8806 - auc: 0.9759 - val_loss: 0.5319 - val_categorical_accuracy: 0.8200 - val_auc: 0.9562\n",
            "Epoch 60/80\n",
            "7/7 [==============================] - ETA: 0s - loss: 0.2274 - categorical_accuracy: 0.9353 - auc: 0.9838\n",
            "Epoch 60: val_loss improved from 0.53191 to 0.47389, saving model to drive/MyDrive/X-Ray classification/CNN/training/cp.ckpt\n",
            "7/7 [==============================] - 0s 42ms/step - loss: 0.2274 - categorical_accuracy: 0.9353 - auc: 0.9838 - val_loss: 0.4739 - val_categorical_accuracy: 0.8200 - val_auc: 0.9600\n",
            "Epoch 61/80\n",
            "7/7 [==============================] - ETA: 0s - loss: 0.2529 - categorical_accuracy: 0.8955 - auc: 0.9822\n",
            "Epoch 61: val_loss improved from 0.47389 to 0.46542, saving model to drive/MyDrive/X-Ray classification/CNN/training/cp.ckpt\n",
            "7/7 [==============================] - 0s 41ms/step - loss: 0.2529 - categorical_accuracy: 0.8955 - auc: 0.9822 - val_loss: 0.4654 - val_categorical_accuracy: 0.8200 - val_auc: 0.9590\n",
            "Epoch 62/80\n",
            "7/7 [==============================] - ETA: 0s - loss: 0.2692 - categorical_accuracy: 0.9055 - auc: 0.9792\n",
            "Epoch 62: val_loss did not improve from 0.46542\n",
            "7/7 [==============================] - 0s 27ms/step - loss: 0.2692 - categorical_accuracy: 0.9055 - auc: 0.9792 - val_loss: 0.4806 - val_categorical_accuracy: 0.8200 - val_auc: 0.9611\n",
            "Epoch 63/80\n",
            "7/7 [==============================] - ETA: 0s - loss: 0.2501 - categorical_accuracy: 0.8955 - auc: 0.9826\n",
            "Epoch 63: val_loss did not improve from 0.46542\n",
            "7/7 [==============================] - 0s 28ms/step - loss: 0.2501 - categorical_accuracy: 0.8955 - auc: 0.9826 - val_loss: 0.8645 - val_categorical_accuracy: 0.7000 - val_auc: 0.9141\n",
            "Epoch 64/80\n",
            "7/7 [==============================] - ETA: 0s - loss: 0.3375 - categorical_accuracy: 0.8856 - auc: 0.9705\n",
            "Epoch 64: val_loss improved from 0.46542 to 0.38132, saving model to drive/MyDrive/X-Ray classification/CNN/training/cp.ckpt\n",
            "7/7 [==============================] - 0s 39ms/step - loss: 0.3375 - categorical_accuracy: 0.8856 - auc: 0.9705 - val_loss: 0.3813 - val_categorical_accuracy: 0.8800 - val_auc: 0.9687\n",
            "Epoch 65/80\n",
            "7/7 [==============================] - ETA: 0s - loss: 0.2893 - categorical_accuracy: 0.8856 - auc: 0.9780\n",
            "Epoch 65: val_loss improved from 0.38132 to 0.31669, saving model to drive/MyDrive/X-Ray classification/CNN/training/cp.ckpt\n",
            "7/7 [==============================] - 0s 42ms/step - loss: 0.2893 - categorical_accuracy: 0.8856 - auc: 0.9780 - val_loss: 0.3167 - val_categorical_accuracy: 0.9000 - val_auc: 0.9786\n",
            "Epoch 66/80\n",
            "7/7 [==============================] - ETA: 0s - loss: 0.2224 - categorical_accuracy: 0.9154 - auc: 0.9860\n",
            "Epoch 66: val_loss did not improve from 0.31669\n",
            "7/7 [==============================] - 0s 27ms/step - loss: 0.2224 - categorical_accuracy: 0.9154 - auc: 0.9860 - val_loss: 0.3341 - val_categorical_accuracy: 0.8600 - val_auc: 0.9751\n",
            "Epoch 67/80\n",
            "7/7 [==============================] - ETA: 0s - loss: 0.2386 - categorical_accuracy: 0.8955 - auc: 0.9836\n",
            "Epoch 67: val_loss did not improve from 0.31669\n",
            "7/7 [==============================] - 0s 27ms/step - loss: 0.2386 - categorical_accuracy: 0.8955 - auc: 0.9836 - val_loss: 0.3208 - val_categorical_accuracy: 0.8800 - val_auc: 0.9747\n",
            "Epoch 68/80\n",
            "7/7 [==============================] - ETA: 0s - loss: 0.2486 - categorical_accuracy: 0.9005 - auc: 0.9824\n",
            "Epoch 68: val_loss improved from 0.31669 to 0.31319, saving model to drive/MyDrive/X-Ray classification/CNN/training/cp.ckpt\n",
            "7/7 [==============================] - 0s 43ms/step - loss: 0.2486 - categorical_accuracy: 0.9005 - auc: 0.9824 - val_loss: 0.3132 - val_categorical_accuracy: 0.9000 - val_auc: 0.9778\n",
            "Epoch 69/80\n",
            "6/7 [========================>.....] - ETA: 0s - loss: 0.2177 - categorical_accuracy: 0.9053 - auc: 0.9873\n",
            "Epoch 69: val_loss improved from 0.31319 to 0.29928, saving model to drive/MyDrive/X-Ray classification/CNN/training/cp.ckpt\n",
            "7/7 [==============================] - 0s 50ms/step - loss: 0.1940 - categorical_accuracy: 0.9154 - auc: 0.9899 - val_loss: 0.2993 - val_categorical_accuracy: 0.9400 - val_auc: 0.9786\n",
            "Epoch 70/80\n",
            "5/7 [====================>.........] - ETA: 0s - loss: 0.2299 - categorical_accuracy: 0.9062 - auc: 0.9849\n",
            "Epoch 70: val_loss did not improve from 0.29928\n",
            "7/7 [==============================] - 0s 34ms/step - loss: 0.2050 - categorical_accuracy: 0.9154 - auc: 0.9880 - val_loss: 0.3205 - val_categorical_accuracy: 0.9000 - val_auc: 0.9768\n",
            "Epoch 71/80\n",
            "5/7 [====================>.........] - ETA: 0s - loss: 0.2401 - categorical_accuracy: 0.9125 - auc: 0.9839\n",
            "Epoch 71: val_loss did not improve from 0.29928\n",
            "7/7 [==============================] - 0s 33ms/step - loss: 0.2218 - categorical_accuracy: 0.9154 - auc: 0.9864 - val_loss: 0.3694 - val_categorical_accuracy: 0.8400 - val_auc: 0.9647\n",
            "Epoch 72/80\n",
            "6/7 [========================>.....] - ETA: 0s - loss: 0.1307 - categorical_accuracy: 0.9527 - auc: 0.9946\n",
            "Epoch 72: val_loss did not improve from 0.29928\n",
            "7/7 [==============================] - 0s 33ms/step - loss: 0.1834 - categorical_accuracy: 0.9403 - auc: 0.9876 - val_loss: 0.4292 - val_categorical_accuracy: 0.8200 - val_auc: 0.9635\n",
            "Epoch 73/80\n",
            "6/7 [========================>.....] - ETA: 0s - loss: 0.1748 - categorical_accuracy: 0.9467 - auc: 0.9899\n",
            "Epoch 73: val_loss did not improve from 0.29928\n",
            "7/7 [==============================] - 0s 34ms/step - loss: 0.2138 - categorical_accuracy: 0.9204 - auc: 0.9858 - val_loss: 0.3212 - val_categorical_accuracy: 0.9000 - val_auc: 0.9776\n",
            "Epoch 74/80\n",
            "6/7 [========================>.....] - ETA: 0s - loss: 0.2425 - categorical_accuracy: 0.8876 - auc: 0.9828\n",
            "Epoch 74: val_loss did not improve from 0.29928\n",
            "7/7 [==============================] - 0s 34ms/step - loss: 0.2358 - categorical_accuracy: 0.8905 - auc: 0.9836 - val_loss: 0.3769 - val_categorical_accuracy: 0.8400 - val_auc: 0.9689\n",
            "Epoch 75/80\n",
            "7/7 [==============================] - ETA: 0s - loss: 0.2568 - categorical_accuracy: 0.9005 - auc: 0.9815\n",
            "Epoch 75: val_loss improved from 0.29928 to 0.26439, saving model to drive/MyDrive/X-Ray classification/CNN/training/cp.ckpt\n",
            "7/7 [==============================] - 0s 55ms/step - loss: 0.2568 - categorical_accuracy: 0.9005 - auc: 0.9815 - val_loss: 0.2644 - val_categorical_accuracy: 0.9000 - val_auc: 0.9843\n",
            "Epoch 76/80\n",
            "7/7 [==============================] - ETA: 0s - loss: 0.2475 - categorical_accuracy: 0.8955 - auc: 0.9829\n",
            "Epoch 76: val_loss improved from 0.26439 to 0.23878, saving model to drive/MyDrive/X-Ray classification/CNN/training/cp.ckpt\n",
            "7/7 [==============================] - 0s 53ms/step - loss: 0.2475 - categorical_accuracy: 0.8955 - auc: 0.9829 - val_loss: 0.2388 - val_categorical_accuracy: 0.9000 - val_auc: 0.9869\n",
            "Epoch 77/80\n",
            "6/7 [========================>.....] - ETA: 0s - loss: 0.1954 - categorical_accuracy: 0.9053 - auc: 0.9889\n",
            "Epoch 77: val_loss did not improve from 0.23878\n",
            "7/7 [==============================] - 0s 29ms/step - loss: 0.1838 - categorical_accuracy: 0.9154 - auc: 0.9902 - val_loss: 0.2782 - val_categorical_accuracy: 0.8800 - val_auc: 0.9848\n",
            "Epoch 78/80\n",
            "7/7 [==============================] - ETA: 0s - loss: 0.1824 - categorical_accuracy: 0.9204 - auc: 0.9907\n",
            "Epoch 78: val_loss did not improve from 0.23878\n",
            "7/7 [==============================] - 0s 26ms/step - loss: 0.1824 - categorical_accuracy: 0.9204 - auc: 0.9907 - val_loss: 0.4446 - val_categorical_accuracy: 0.8600 - val_auc: 0.9583\n",
            "Epoch 79/80\n",
            "7/7 [==============================] - ETA: 0s - loss: 0.2384 - categorical_accuracy: 0.9055 - auc: 0.9851\n",
            "Epoch 79: val_loss did not improve from 0.23878\n",
            "7/7 [==============================] - 0s 27ms/step - loss: 0.2384 - categorical_accuracy: 0.9055 - auc: 0.9851 - val_loss: 0.3099 - val_categorical_accuracy: 0.9000 - val_auc: 0.9752\n",
            "Epoch 80/80\n",
            "7/7 [==============================] - ETA: 0s - loss: 0.1807 - categorical_accuracy: 0.9005 - auc: 0.9905\n",
            "Epoch 80: val_loss did not improve from 0.23878\n",
            "7/7 [==============================] - 0s 26ms/step - loss: 0.1807 - categorical_accuracy: 0.9005 - auc: 0.9905 - val_loss: 0.2721 - val_categorical_accuracy: 0.9000 - val_auc: 0.9787\n"
          ]
        },
        {
          "output_type": "execute_result",
          "data": {
            "text/plain": [
              "<keras.callbacks.History at 0x7f52696e2110>"
            ]
          },
          "metadata": {},
          "execution_count": 13
        }
      ]
    },
    {
      "cell_type": "markdown",
      "source": [
        "## Load an Optimal Model from the Optimal Training Checkpoint "
      ],
      "metadata": {
        "id": "0y9JegdAgSow"
      }
    },
    {
      "cell_type": "code",
      "source": [
        "# We load a model using our best saved checkpoint\n",
        "best_model = tuner.hypermodel.build(best_hps)\n",
        "best_model.load_weights(checkpoint_path)"
      ],
      "metadata": {
        "colab": {
          "base_uri": "https://localhost:8080/"
        },
        "id": "5cTRC6FyGb8o",
        "outputId": "ad932ba6-4b02-40aa-87d5-ac0e0dbc533e"
      },
      "execution_count": null,
      "outputs": [
        {
          "output_type": "execute_result",
          "data": {
            "text/plain": [
              "<tensorflow.python.training.tracking.util.CheckpointLoadStatus at 0x7f526a6ea9d0>"
            ]
          },
          "metadata": {},
          "execution_count": 14
        }
      ]
    },
    {
      "cell_type": "markdown",
      "source": [
        "# Evaluate the Best Model"
      ],
      "metadata": {
        "id": "xw9TIqn3g1JR"
      }
    },
    {
      "cell_type": "code",
      "source": [
        "best_loss, best_acc, best_auc = best_model.evaluate(test_ds)\n",
        "print('Tuned model with best val_loss epoch')"
      ],
      "metadata": {
        "colab": {
          "base_uri": "https://localhost:8080/"
        },
        "id": "1XbHt0zsJlo4",
        "outputId": "516db97d-7708-497b-9e89-eeb01f05b11b"
      },
      "execution_count": null,
      "outputs": [
        {
          "output_type": "stream",
          "name": "stdout",
          "text": [
            "3/3 [==============================] - 12s 21ms/step - loss: 0.2072 - categorical_accuracy: 0.9091 - auc: 0.9882\n",
            "Tuned model\n",
            "3/3 [==============================] - 0s 8ms/step - loss: 0.2496 - categorical_accuracy: 0.8636 - auc: 0.9765\n",
            "Tuned model with best val_loss epoch\n"
          ]
        }
      ]
    },
    {
      "cell_type": "markdown",
      "source": [
        "## Compare the Optimized Model with a Previously Saved Model"
      ],
      "metadata": {
        "id": "sU7iFHJBg-GH"
      }
    },
    {
      "cell_type": "code",
      "source": [
        "old_model = tf.keras.models.load_model('/drive/MyDrive/X-Ray classification/CNN/saved_model/my_model')\n",
        "\n",
        "old_loss, old_acc, old_auc = old_model.evaluate(test_ds)\n",
        "print(\"Old saved model\")"
      ],
      "metadata": {
        "colab": {
          "base_uri": "https://localhost:8080/"
        },
        "id": "OA09bhW9JzZb",
        "outputId": "54194868-1594-49b0-cbdc-6d764b5611b8"
      },
      "execution_count": null,
      "outputs": [
        {
          "output_type": "stream",
          "name": "stdout",
          "text": [
            "3/3 [==============================] - 0s 8ms/step - loss: 0.2496 - categorical_accuracy: 0.8636 - auc: 0.9765\n",
            "Old saved model\n"
          ]
        }
      ]
    },
    {
      "cell_type": "code",
      "source": [
        "# If the new model performs better then we save it over our previous model\n",
        "if old_acc < best_acc: \n",
        "  print('Saved best_model over the prev model')\n",
        "  # This works for saving it into a folder in my drive this works well... \n",
        "  best_model.save('/drive/MyDrive/X-Ray classification/CNN/saved_model/my_model')\n",
        "else:\n",
        "  best_model = old_model"
      ],
      "metadata": {
        "id": "N1QL_aF2MeVW"
      },
      "execution_count": null,
      "outputs": []
    },
    {
      "cell_type": "markdown",
      "source": [
        "# Classification Report and Confusion Matrix\n",
        "\n",
        "A (i, j) entry in a confusion matrix means that the true label was class_i but the model predicted class_j. This confusion matrix is also normalized so that it sums to 1. "
      ],
      "metadata": {
        "id": "y3SO9qq_hP1n"
      }
    },
    {
      "cell_type": "code",
      "source": [
        "y_pred = tf.argmax(best_model.predict(test_ds), axis = 1).numpy()\n",
        "\n",
        "ds = test_ds.take(-1).unbatch()\n",
        "y_true = [y for x, y in ds] \n",
        "y_true = tf.argmax(y_true, axis = 1).numpy()"
      ],
      "metadata": {
        "id": "oGU3lNcWKItI"
      },
      "execution_count": null,
      "outputs": []
    },
    {
      "cell_type": "code",
      "source": [
        "from sklearn.metrics import classification_report\n",
        "print(classification_report(y_true, y_pred, target_names = class_names))\n",
        "\n",
        "from sklearn.metrics import confusion_matrix, ConfusionMatrixDisplay\n",
        "cm = confusion_matrix(y_true, y_pred, normalize='all')\n",
        "disp = ConfusionMatrixDisplay(confusion_matrix=cm,\n",
        "                              display_labels= class_names)\n",
        "disp.plot()"
      ],
      "metadata": {
        "colab": {
          "base_uri": "https://localhost:8080/",
          "height": 475
        },
        "id": "_E5gmTU9IRGP",
        "outputId": "e38ccd6b-9fec-45be-ce79-d1c01c37af05"
      },
      "execution_count": null,
      "outputs": [
        {
          "output_type": "stream",
          "name": "stdout",
          "text": [
            "              precision    recall  f1-score   support\n",
            "\n",
            "       Covid       0.96      1.00      0.98        26\n",
            "      Normal       0.92      0.60      0.73        20\n",
            "   Pneumonia       0.73      0.95      0.83        20\n",
            "\n",
            "    accuracy                           0.86        66\n",
            "   macro avg       0.87      0.85      0.84        66\n",
            "weighted avg       0.88      0.86      0.86        66\n",
            "\n"
          ]
        },
        {
          "output_type": "execute_result",
          "data": {
            "text/plain": [
              "<sklearn.metrics._plot.confusion_matrix.ConfusionMatrixDisplay at 0x7f51b146ca90>"
            ]
          },
          "metadata": {},
          "execution_count": 32
        },
        {
          "output_type": "display_data",
          "data": {
            "text/plain": [
              "<Figure size 432x288 with 2 Axes>"
            ],
            "image/png": "[encoded data removed]"
          },
          "metadata": {
            "needs_background": "light"
          }
        }
      ]
    }
  ]
}