{
  "nbformat": 4,
  "nbformat_minor": 0,
  "metadata": {
    "colab": {
      "name": "Transfer Learning with Keras for X-Ray Classification.ipynb",
      "provenance": [],
      "collapsed_sections": [],
      "mount_file_id": "17wIM2SR5c0AOouJB2jioAmVKWARZMGQy",
      "authorship_tag": "ABX9TyO3UW0RtRJzRmAowEd9/G4u",
      "include_colab_link": true
    },
    "kernelspec": {
      "name": "python3",
      "display_name": "Python 3"
    },
    "language_info": {
      "name": "python"
    },
    "accelerator": "GPU",
    "gpuClass": "standard"
  },
  "cells": [
    {
      "cell_type": "markdown",
      "metadata": {
        "id": "view-in-github",
        "colab_type": "text"
      },
      "source": [
        "<a href=\"https://colab.research.google.com/github/andygma567/X-Ray-Image-Classification/blob/main/Transfer_Learning_with_Keras_for_X_Ray_Classification.ipynb\" target=\"_parent\"><img src=\"https://colab.research.google.com/assets/colab-badge.svg\" alt=\"Open In Colab\"/></a>"
      ]
    },
    {
      "cell_type": "markdown",
      "source": [
        "# Abstract\n",
        "\n",
        "I made this transfer learning example with Inception.V3 for comparison to my own CNN. This particular example is trained on the same dataset as my CNN example and it has 89% accuracy on the same test data as my CNN. Overall I think this is a better model. "
      ],
      "metadata": {
        "id": "z6DjubV-5F1V"
      }
    },
    {
      "cell_type": "markdown",
      "source": [
        "# Introduction\n",
        "\n",
        "I followed these tutorials from the tensorflow site:\n",
        "1.   https://www.tensorflow.org/tutorials/images/transfer_learning#fine_tuning\n",
        "2.   https://www.tensorflow.org/guide/keras/transfer_learning#fine-tuning\n",
        "3.   https://www.tensorflow.org/tutorials/images/transfer_learning_with_hub\n",
        "\n",
        "For a quick overview of Inception.V3 in comparison to ResNet and other CNN type neural nets I like this blogpost: \n",
        "\n",
        "https://blog.paperspace.com/popular-deep-learning-architectures-resnet-inceptionv3-squeezenet/"
      ],
      "metadata": {
        "id": "b3Xp5eVeXDWc"
      }
    },
    {
      "cell_type": "markdown",
      "source": [
        "# Set up"
      ],
      "metadata": {
        "id": "05G5jrNq3AjV"
      }
    },
    {
      "cell_type": "code",
      "execution_count": null,
      "metadata": {
        "colab": {
          "base_uri": "https://localhost:8080/"
        },
        "id": "PX2IYwUwGrQb",
        "outputId": "7af2f636-3e8c-4885-c684-6c5595291c8f"
      },
      "outputs": [
        {
          "output_type": "stream",
          "name": "stdout",
          "text": [
            "2.8.2\n"
          ]
        }
      ],
      "source": [
        "import tensorflow as tf\n",
        "import tensorflow_hub as hub\n",
        "from tensorflow import keras\n",
        "from keras import layers\n",
        "import matplotlib.pyplot as plt\n",
        "import numpy as np # I'm not sure if I need this one\n",
        "import os \n",
        "\n",
        "#for reproducibility of result I use the same seed for the random number generator\n",
        "tf.random.set_seed(42) \n",
        "\n",
        "print(tf.__version__)"
      ]
    },
    {
      "cell_type": "code",
      "source": [
        "# Get the gpu info \n",
        "gpu_info = !nvidia-smi\n",
        "gpu_info = '\\n'.join(gpu_info)\n",
        "if gpu_info.find('failed') >= 0:\n",
        "  print('Not connected to a GPU')\n",
        "else:\n",
        "  print(gpu_info)"
      ],
      "metadata": {
        "colab": {
          "base_uri": "https://localhost:8080/"
        },
        "id": "bHO8haFAG2Us",
        "outputId": "c7464d0c-984a-4c30-de80-ee62634647d7"
      },
      "execution_count": null,
      "outputs": [
        {
          "output_type": "stream",
          "name": "stdout",
          "text": [
            "Mon Aug 15 05:48:44 2022       \n",
            "+-----------------------------------------------------------------------------+\n",
            "| NVIDIA-SMI 460.32.03    Driver Version: 460.32.03    CUDA Version: 11.2     |\n",
            "|-------------------------------+----------------------+----------------------+\n",
            "| GPU  Name        Persistence-M| Bus-Id        Disp.A | Volatile Uncorr. ECC |\n",
            "| Fan  Temp  Perf  Pwr:Usage/Cap|         Memory-Usage | GPU-Util  Compute M. |\n",
            "|                               |                      |               MIG M. |\n",
            "|===============================+======================+======================|\n",
            "|   0  Tesla P100-PCIE...  Off  | 00000000:00:04.0 Off |                    0 |\n",
            "| N/A   45C    P0    34W / 250W |   8267MiB / 16280MiB |      0%      Default |\n",
            "|                               |                      |                  N/A |\n",
            "+-------------------------------+----------------------+----------------------+\n",
            "                                                                               \n",
            "+-----------------------------------------------------------------------------+\n",
            "| Processes:                                                                  |\n",
            "|  GPU   GI   CI        PID   Type   Process name                  GPU Memory |\n",
            "|        ID   ID                                                   Usage      |\n",
            "|=============================================================================|\n",
            "+-----------------------------------------------------------------------------+\n"
          ]
        }
      ]
    },
    {
      "cell_type": "code",
      "source": [
        "# # Mount my Google Drive\n",
        "# from google.colab import drive\n",
        "# drive.mount('/gdrive')\n",
        "# %cd /gdrive"
      ],
      "metadata": {
        "id": "yL1CeR9VBP1m"
      },
      "execution_count": null,
      "outputs": []
    },
    {
      "cell_type": "markdown",
      "source": [
        "## Load my dataset\n",
        "\n"
      ],
      "metadata": {
        "id": "jvJR2g6R1bBd"
      }
    },
    {
      "cell_type": "code",
      "source": [
        "# Get my dataset from where I store it in my Google Drive\n",
        "data_dir = '/content/drive/MyDrive/X-Ray classification/classification-challenge-starter/Covid19-dataset/'\n",
        "\n",
        "# I use the same seed for reproducability\n",
        "SEED = 123 \n",
        "\n",
        "# This is my training set\n",
        "train_ds = keras.utils.image_dataset_from_directory(\n",
        "    data_dir + 'train', \n",
        "    validation_split=0.2,\n",
        "    subset=\"training\",\n",
        "    seed = SEED\n",
        "    )\n",
        "\n",
        "# This is my validation set\n",
        "val_ds = keras.utils.image_dataset_from_directory(\n",
        "    data_dir + 'train', \n",
        "    validation_split=0.2,\n",
        "    subset=\"validation\",\n",
        "    seed = SEED\n",
        "    )\n",
        "\n",
        "# This is my test set\n",
        "test_ds = keras.utils.image_dataset_from_directory(\n",
        "    data_dir + 'test', \n",
        "    seed = SEED\n",
        "    )"
      ],
      "metadata": {
        "colab": {
          "base_uri": "https://localhost:8080/"
        },
        "id": "th31tOphBigA",
        "outputId": "b4facaea-a6f6-4c69-c140-91780d8eddce"
      },
      "execution_count": null,
      "outputs": [
        {
          "output_type": "stream",
          "name": "stdout",
          "text": [
            "Found 251 files belonging to 3 classes.\n",
            "Using 201 files for training.\n",
            "Found 251 files belonging to 3 classes.\n",
            "Using 50 files for validation.\n",
            "Found 66 files belonging to 3 classes.\n"
          ]
        }
      ]
    },
    {
      "cell_type": "code",
      "source": [
        "class_names = train_ds.class_names\n",
        "print(class_names)"
      ],
      "metadata": {
        "colab": {
          "base_uri": "https://localhost:8080/"
        },
        "id": "RmyUmddNuJcl",
        "outputId": "fb1921bd-e7bc-4ce5-8726-d9ba9f85c037"
      },
      "execution_count": null,
      "outputs": [
        {
          "output_type": "stream",
          "name": "stdout",
          "text": [
            "['Covid', 'Normal', 'Pneumonia']\n"
          ]
        }
      ]
    },
    {
      "cell_type": "markdown",
      "source": [
        "Here I try to optimize my data pipeline setup. It's definitely not necessary for my small dataset but I think it's a good habit for me to always do this step. "
      ],
      "metadata": {
        "id": "EWFzwW1a2PiX"
      }
    },
    {
      "cell_type": "code",
      "source": [
        "AUTOTUNE = tf.data.AUTOTUNE\n",
        "\n",
        "train_ds = train_ds.cache().shuffle(100).prefetch(buffer_size=AUTOTUNE)\n",
        "val_ds = val_ds.cache().prefetch(buffer_size=AUTOTUNE)\n",
        "test_ds = test_ds.cache().prefetch(buffer_size=AUTOTUNE)"
      ],
      "metadata": {
        "id": "Bs9kF-tXOHr1"
      },
      "execution_count": null,
      "outputs": []
    },
    {
      "cell_type": "markdown",
      "source": [
        "# Build a Model"
      ],
      "metadata": {
        "id": "AL2thcgp3NPe"
      }
    },
    {
      "cell_type": "markdown",
      "source": [
        "## Get the inception.v3 neural net for a base\n",
        "\n",
        "I'm using the model that is from the Keras library. I also experimented using the same model that is in the Tensorflow Hub page but that model doesn't allow you to fine-tune just a fraction of the model. \n",
        "\n",
        "At the time of this writing (August 2022) the Tensorflow Hub models are interpretted as a single layer during fine-tuning in tensorflow. "
      ],
      "metadata": {
        "id": "LN7zmUCd3RGQ"
      }
    },
    {
      "cell_type": "code",
      "source": [
        "# Create the base model from the pre-trained model\n",
        "\n",
        "IMG_SIZE = (256, 256) # All of my images have the shape (256, 256, 3) \n",
        "IMG_SHAPE = IMG_SIZE + (3,)\n",
        "base_model = tf.keras.applications.inception_v3.InceptionV3 (\n",
        "    input_shape=IMG_SHAPE,\n",
        "    include_top=False,\n",
        "    weights='imagenet', \n",
        "    pooling = 'avg' \n",
        ")"
      ],
      "metadata": {
        "id": "VseAdWfLJbl1"
      },
      "execution_count": null,
      "outputs": []
    },
    {
      "cell_type": "code",
      "source": [
        "# Freeze all the weights in the base model\n",
        "base_model.trainable = False"
      ],
      "metadata": {
        "id": "5NwBsP9PqbOh"
      },
      "execution_count": null,
      "outputs": []
    },
    {
      "cell_type": "markdown",
      "source": [
        "## Make image preprocessing layers"
      ],
      "metadata": {
        "id": "ciu5Kmg14NsX"
      }
    },
    {
      "cell_type": "code",
      "source": [
        "# make a preprocessing layer\n",
        "data_augmentation = keras.Sequential([\n",
        "    layers.Rescaling(1./255),\n",
        "    layers.RandomFlip(\"horizontal_and_vertical\"),\n",
        "    # Zoom in or out by 5%\n",
        "    layers.RandomZoom(height_factor = .15, width_factor= .15),\n",
        "    # Rotate by about 15 degrees - that's a little over 4%\n",
        "    layers.RandomRotation(factor = .04),\n",
        "    #Translate by up to 3% up, down, left, or right\n",
        "    layers.RandomTranslation(height_factor = 0.1, width_factor = 0.1)\n",
        "])"
      ],
      "metadata": {
        "id": "GdAp1hRmkmDm"
      },
      "execution_count": null,
      "outputs": []
    },
    {
      "cell_type": "markdown",
      "source": [
        "## Build a Model\n",
        "\n",
        "Special attention needs to be given to the batchnormalization layers as tensorflow handles them in a special way. "
      ],
      "metadata": {
        "id": "uV1QUqnp4VU8"
      }
    },
    {
      "cell_type": "code",
      "source": [
        "def create_model():\n",
        "  # Create new model on top\n",
        "  inputs = keras.Input(shape=(256, 256, 3))\n",
        "  x = data_augmentation(inputs)  # Apply random data augmentation\n",
        "\n",
        "  # The base model contains batchnorm layers. We want to keep them in inference mode\n",
        "  # when we unfreeze the base model for fine-tuning, so we make sure that the\n",
        "  # base_model is running in inference mode here.\n",
        "  x = base_model(x, training=False)\n",
        "  x = layers.Dropout(0.2)(x)  # Regularize with dropout\n",
        "  outputs = keras.layers.Dense(3, activation=\"softmax\")(x) # we have 3 classes\n",
        "\n",
        "  model = keras.Model(inputs, outputs)\n",
        "\n",
        "  base_learning_rate = 1e-4\n",
        "  \n",
        "  model.compile(optimizer=tf.keras.optimizers.Adam(learning_rate=base_learning_rate),\n",
        "              loss= keras.losses.SparseCategoricalCrossentropy(),\n",
        "              metrics=[keras.metrics.SparseCategoricalAccuracy(name='acc')])\n",
        "\n",
        "  return model"
      ],
      "metadata": {
        "id": "NZKRY4KAlken"
      },
      "execution_count": null,
      "outputs": []
    },
    {
      "cell_type": "code",
      "source": [
        "model = create_model()\n",
        "model.summary()"
      ],
      "metadata": {
        "colab": {
          "base_uri": "https://localhost:8080/"
        },
        "id": "OcRWXdQt4NDp",
        "outputId": "9ad8bed3-53fa-4eae-99d9-d8b4e18dd0a9"
      },
      "execution_count": null,
      "outputs": [
        {
          "output_type": "stream",
          "name": "stdout",
          "text": [
            "Model: \"model_2\"\n",
            "_________________________________________________________________\n",
            " Layer (type)                Output Shape              Param #   \n",
            "=================================================================\n",
            " input_5 (InputLayer)        [(None, 256, 256, 3)]     0         \n",
            "                                                                 \n",
            " sequential_1 (Sequential)   (None, 256, 256, 3)       0         \n",
            "                                                                 \n",
            " inception_v3 (Functional)   (None, 2048)              21802784  \n",
            "                                                                 \n",
            " dropout_2 (Dropout)         (None, 2048)              0         \n",
            "                                                                 \n",
            " dense_2 (Dense)             (None, 3)                 6147      \n",
            "                                                                 \n",
            "=================================================================\n",
            "Total params: 21,808,931\n",
            "Trainable params: 6,147\n",
            "Non-trainable params: 21,802,784\n",
            "_________________________________________________________________\n"
          ]
        }
      ]
    },
    {
      "cell_type": "markdown",
      "source": [
        "# Train the Model\n",
        "\n",
        "To help save training progress I use a checkpoint callback that I store in a directory called \"training\" (on the virtual machine connected my colab notebook)"
      ],
      "metadata": {
        "id": "DmDHEeQmtfbf"
      }
    },
    {
      "cell_type": "code",
      "execution_count": null,
      "metadata": {
        "id": "ij78yCIvdImF"
      },
      "outputs": [],
      "source": [
        "# save one checkpoint at a time into my drive\n",
        "checkpoint_path = \"training/cp.ckpt\"\n",
        "checkpoint_dir = os.path.dirname(checkpoint_path)"
      ]
    },
    {
      "cell_type": "code",
      "execution_count": null,
      "metadata": {
        "id": "-rHR9Jpqe2J-"
      },
      "outputs": [],
      "source": [
        "# Create a callback that saves the model's weights\n",
        "cp = tf.keras.callbacks.ModelCheckpoint(filepath=checkpoint_path,\n",
        "                                        save_weights_only=True,\n",
        "                                        save_best_only=True,\n",
        "                                        verbose=1)"
      ]
    },
    {
      "cell_type": "code",
      "source": [
        "initial_epochs = 15\n",
        "\n",
        "history = model.fit(train_ds,\n",
        "                    epochs=initial_epochs,\n",
        "                    validation_data=val_ds,\n",
        "                    callbacks = [cp]\n",
        "                    )"
      ],
      "metadata": {
        "colab": {
          "base_uri": "https://localhost:8080/"
        },
        "id": "6pUJH32btMjc",
        "outputId": "576604a1-05e5-450d-a9f5-528a5f627067"
      },
      "execution_count": null,
      "outputs": [
        {
          "output_type": "stream",
          "name": "stdout",
          "text": [
            "Epoch 1/15\n",
            "7/7 [==============================] - ETA: 0s - loss: 1.0674 - acc: 0.4378\n",
            "Epoch 1: val_loss improved from inf to 1.08061, saving model to training/cp.ckpt\n",
            "7/7 [==============================] - 11s 450ms/step - loss: 1.0674 - acc: 0.4378 - val_loss: 1.0806 - val_acc: 0.4000\n",
            "Epoch 2/15\n",
            "7/7 [==============================] - ETA: 0s - loss: 0.9893 - acc: 0.5025\n",
            "Epoch 2: val_loss improved from 1.08061 to 1.00981, saving model to training/cp.ckpt\n",
            "7/7 [==============================] - 1s 206ms/step - loss: 0.9893 - acc: 0.5025 - val_loss: 1.0098 - val_acc: 0.4800\n",
            "Epoch 3/15\n",
            "7/7 [==============================] - ETA: 0s - loss: 0.9909 - acc: 0.4826\n",
            "Epoch 3: val_loss improved from 1.00981 to 0.97218, saving model to training/cp.ckpt\n",
            "7/7 [==============================] - 1s 174ms/step - loss: 0.9909 - acc: 0.4826 - val_loss: 0.9722 - val_acc: 0.5400\n",
            "Epoch 4/15\n",
            "6/7 [========================>.....] - ETA: 0s - loss: 0.9729 - acc: 0.5417\n",
            "Epoch 4: val_loss improved from 0.97218 to 0.94183, saving model to training/cp.ckpt\n",
            "7/7 [==============================] - 1s 173ms/step - loss: 0.9646 - acc: 0.5572 - val_loss: 0.9418 - val_acc: 0.6000\n",
            "Epoch 5/15\n",
            "7/7 [==============================] - ETA: 0s - loss: 0.9156 - acc: 0.6119\n",
            "Epoch 5: val_loss improved from 0.94183 to 0.91920, saving model to training/cp.ckpt\n",
            "7/7 [==============================] - 1s 172ms/step - loss: 0.9156 - acc: 0.6119 - val_loss: 0.9192 - val_acc: 0.5800\n",
            "Epoch 6/15\n",
            "6/7 [========================>.....] - ETA: 0s - loss: 0.8892 - acc: 0.6094\n",
            "Epoch 6: val_loss improved from 0.91920 to 0.89766, saving model to training/cp.ckpt\n",
            "7/7 [==============================] - 1s 171ms/step - loss: 0.8915 - acc: 0.6070 - val_loss: 0.8977 - val_acc: 0.5800\n",
            "Epoch 7/15\n",
            "7/7 [==============================] - ETA: 0s - loss: 0.8827 - acc: 0.5771\n",
            "Epoch 7: val_loss improved from 0.89766 to 0.87299, saving model to training/cp.ckpt\n",
            "7/7 [==============================] - 1s 174ms/step - loss: 0.8827 - acc: 0.5771 - val_loss: 0.8730 - val_acc: 0.6200\n",
            "Epoch 8/15\n",
            "7/7 [==============================] - ETA: 0s - loss: 0.8022 - acc: 0.6866\n",
            "Epoch 8: val_loss improved from 0.87299 to 0.85851, saving model to training/cp.ckpt\n",
            "7/7 [==============================] - 1s 173ms/step - loss: 0.8022 - acc: 0.6866 - val_loss: 0.8585 - val_acc: 0.6400\n",
            "Epoch 9/15\n",
            "7/7 [==============================] - ETA: 0s - loss: 0.8121 - acc: 0.6766\n",
            "Epoch 9: val_loss improved from 0.85851 to 0.83868, saving model to training/cp.ckpt\n",
            "7/7 [==============================] - 1s 174ms/step - loss: 0.8121 - acc: 0.6766 - val_loss: 0.8387 - val_acc: 0.6600\n",
            "Epoch 10/15\n",
            "7/7 [==============================] - ETA: 0s - loss: 0.7594 - acc: 0.6866\n",
            "Epoch 10: val_loss improved from 0.83868 to 0.82211, saving model to training/cp.ckpt\n",
            "7/7 [==============================] - 1s 234ms/step - loss: 0.7594 - acc: 0.6866 - val_loss: 0.8221 - val_acc: 0.6600\n",
            "Epoch 11/15\n",
            "6/7 [========================>.....] - ETA: 0s - loss: 0.7709 - acc: 0.7083\n",
            "Epoch 11: val_loss improved from 0.82211 to 0.80800, saving model to training/cp.ckpt\n",
            "7/7 [==============================] - 2s 243ms/step - loss: 0.7705 - acc: 0.7065 - val_loss: 0.8080 - val_acc: 0.6600\n",
            "Epoch 12/15\n",
            "7/7 [==============================] - ETA: 0s - loss: 0.7724 - acc: 0.6965\n",
            "Epoch 12: val_loss improved from 0.80800 to 0.80277, saving model to training/cp.ckpt\n",
            "7/7 [==============================] - 1s 175ms/step - loss: 0.7724 - acc: 0.6965 - val_loss: 0.8028 - val_acc: 0.6800\n",
            "Epoch 13/15\n",
            "7/7 [==============================] - ETA: 0s - loss: 0.7317 - acc: 0.7214\n",
            "Epoch 13: val_loss improved from 0.80277 to 0.79114, saving model to training/cp.ckpt\n",
            "7/7 [==============================] - 1s 175ms/step - loss: 0.7317 - acc: 0.7214 - val_loss: 0.7911 - val_acc: 0.6800\n",
            "Epoch 14/15\n",
            "7/7 [==============================] - ETA: 0s - loss: 0.7111 - acc: 0.7214\n",
            "Epoch 14: val_loss improved from 0.79114 to 0.78731, saving model to training/cp.ckpt\n",
            "7/7 [==============================] - 1s 171ms/step - loss: 0.7111 - acc: 0.7214 - val_loss: 0.7873 - val_acc: 0.6600\n",
            "Epoch 15/15\n",
            "7/7 [==============================] - ETA: 0s - loss: 0.6942 - acc: 0.7065\n",
            "Epoch 15: val_loss improved from 0.78731 to 0.77381, saving model to training/cp.ckpt\n",
            "7/7 [==============================] - 1s 176ms/step - loss: 0.6942 - acc: 0.7065 - val_loss: 0.7738 - val_acc: 0.6800\n"
          ]
        }
      ]
    },
    {
      "cell_type": "markdown",
      "source": [
        "## Plot the Accuracy and the Loss"
      ],
      "metadata": {
        "id": "AkvAvl3-_A1V"
      }
    },
    {
      "cell_type": "code",
      "source": [
        "acc = history.history['acc']\n",
        "val_acc = history.history['val_acc']\n",
        "\n",
        "loss = history.history['loss']\n",
        "val_loss = history.history['val_loss']\n",
        "\n",
        "plt.figure(figsize=(8, 8))\n",
        "plt.subplot(2, 1, 1)\n",
        "plt.plot(acc, label='Training Accuracy')\n",
        "plt.plot(val_acc, label='Validation Accuracy')\n",
        "plt.legend(loc='lower right')\n",
        "plt.ylabel('Accuracy')\n",
        "# plt.ylim([min(plt.ylim()),1])\n",
        "plt.title('Training and Validation Accuracy')\n",
        "\n",
        "plt.subplot(2, 1, 2)\n",
        "plt.plot(loss, label='Training Loss')\n",
        "plt.plot(val_loss, label='Validation Loss')\n",
        "plt.legend(loc='upper right')\n",
        "plt.ylabel('Cross Entropy')\n",
        "# plt.ylim([0,1.0])\n",
        "plt.title('Training and Validation Loss')\n",
        "plt.xlabel('epoch')\n",
        "plt.show()"
      ],
      "metadata": {
        "colab": {
          "base_uri": "https://localhost:8080/",
          "height": 513
        },
        "id": "tnx3bnWCuPyM",
        "outputId": "10d95451-5c48-4c2e-c7ec-3d0226e71f5e"
      },
      "execution_count": null,
      "outputs": [
        {
          "output_type": "display_data",
          "data": {
            "text/plain": [
              "<Figure size 576x576 with 2 Axes>"
            ],
            "image/png": "[encoded data removed]"
          },
          "metadata": {
            "needs_background": "light"
          }
        }
      ]
    },
    {
      "cell_type": "markdown",
      "source": [
        "# Fine Tuning"
      ],
      "metadata": {
        "id": "-IKwnyFSurOW"
      }
    },
    {
      "cell_type": "code",
      "source": [
        "# Fine tune the top 20% of layers\n",
        "fine_tune_at = int(len(base_model.layers)*.2)\n",
        "\n",
        "base_model.trainable = True\n",
        "for layer in base_model.layers[:fine_tune_at]:\n",
        "  layer.trainable = False"
      ],
      "metadata": {
        "id": "esCt6JK-RAZf"
      },
      "execution_count": null,
      "outputs": []
    },
    {
      "cell_type": "code",
      "source": [
        "# I want to use a much smaller learning rate for fine-tuning because it's\n",
        "# very easy to overfit such a large model\n",
        "model.compile(optimizer=tf.keras.optimizers.Adam(learning_rate=1e-5),\n",
        "              loss= keras.losses.SparseCategoricalCrossentropy(),\n",
        "              metrics=[keras.metrics.SparseCategoricalAccuracy(name='acc')])\n",
        "\n",
        "print(model.summary())"
      ],
      "metadata": {
        "id": "iNwBaUNB0q0N",
        "colab": {
          "base_uri": "https://localhost:8080/"
        },
        "outputId": "5d7ddfb1-0403-4044-da4d-55be5333e6cb"
      },
      "execution_count": null,
      "outputs": [
        {
          "output_type": "stream",
          "name": "stdout",
          "text": [
            "Model: \"model_2\"\n",
            "_________________________________________________________________\n",
            " Layer (type)                Output Shape              Param #   \n",
            "=================================================================\n",
            " input_5 (InputLayer)        [(None, 256, 256, 3)]     0         \n",
            "                                                                 \n",
            " sequential_1 (Sequential)   (None, 256, 256, 3)       0         \n",
            "                                                                 \n",
            " inception_v3 (Functional)   (None, 2048)              21802784  \n",
            "                                                                 \n",
            " dropout_2 (Dropout)         (None, 2048)              0         \n",
            "                                                                 \n",
            " dense_2 (Dense)             (None, 3)                 6147      \n",
            "                                                                 \n",
            "=================================================================\n",
            "Total params: 21,808,931\n",
            "Trainable params: 21,069,811\n",
            "Non-trainable params: 739,120\n",
            "_________________________________________________________________\n",
            "None\n"
          ]
        }
      ]
    },
    {
      "cell_type": "code",
      "source": [
        "fine_tune_epochs = 10\n",
        "total_epochs =  initial_epochs + fine_tune_epochs"
      ],
      "metadata": {
        "id": "s8mQNvWN2Ocm"
      },
      "execution_count": null,
      "outputs": []
    },
    {
      "cell_type": "code",
      "source": [
        "history_fine = model.fit(train_ds,\n",
        "                         epochs=total_epochs,\n",
        "                         initial_epoch=history.epoch[-1],\n",
        "                         validation_data=val_ds, \n",
        "                         callbacks = [cp]\n",
        "                         )"
      ],
      "metadata": {
        "colab": {
          "base_uri": "https://localhost:8080/"
        },
        "id": "uL5ap87X2o77",
        "outputId": "c924902c-1dac-47e5-ed03-56d18256d101"
      },
      "execution_count": null,
      "outputs": [
        {
          "output_type": "stream",
          "name": "stdout",
          "text": [
            "Epoch 15/25\n",
            "7/7 [==============================] - ETA: 0s - loss: 0.7004 - acc: 0.7114\n",
            "Epoch 15: val_loss improved from 0.77381 to 0.62157, saving model to training/cp.ckpt\n",
            "7/7 [==============================] - 12s 621ms/step - loss: 0.7004 - acc: 0.7114 - val_loss: 0.6216 - val_acc: 0.7400\n",
            "Epoch 16/25\n",
            "7/7 [==============================] - ETA: 0s - loss: 0.5069 - acc: 0.8060\n",
            "Epoch 16: val_loss improved from 0.62157 to 0.55568, saving model to training/cp.ckpt\n",
            "7/7 [==============================] - 2s 364ms/step - loss: 0.5069 - acc: 0.8060 - val_loss: 0.5557 - val_acc: 0.8000\n",
            "Epoch 17/25\n",
            "7/7 [==============================] - ETA: 0s - loss: 0.4441 - acc: 0.8308\n",
            "Epoch 17: val_loss improved from 0.55568 to 0.46598, saving model to training/cp.ckpt\n",
            "7/7 [==============================] - 2s 343ms/step - loss: 0.4441 - acc: 0.8308 - val_loss: 0.4660 - val_acc: 0.8000\n",
            "Epoch 18/25\n",
            "7/7 [==============================] - ETA: 0s - loss: 0.3040 - acc: 0.9005\n",
            "Epoch 18: val_loss improved from 0.46598 to 0.44332, saving model to training/cp.ckpt\n",
            "7/7 [==============================] - 3s 422ms/step - loss: 0.3040 - acc: 0.9005 - val_loss: 0.4433 - val_acc: 0.8200\n",
            "Epoch 19/25\n",
            "7/7 [==============================] - ETA: 0s - loss: 0.2671 - acc: 0.9055\n",
            "Epoch 19: val_loss improved from 0.44332 to 0.38064, saving model to training/cp.ckpt\n",
            "7/7 [==============================] - 2s 346ms/step - loss: 0.2671 - acc: 0.9055 - val_loss: 0.3806 - val_acc: 0.8600\n",
            "Epoch 20/25\n",
            "7/7 [==============================] - ETA: 0s - loss: 0.2618 - acc: 0.9055\n",
            "Epoch 20: val_loss did not improve from 0.38064\n",
            "7/7 [==============================] - 1s 179ms/step - loss: 0.2618 - acc: 0.9055 - val_loss: 0.4403 - val_acc: 0.8200\n",
            "Epoch 21/25\n",
            "7/7 [==============================] - ETA: 0s - loss: 0.2400 - acc: 0.9154\n",
            "Epoch 21: val_loss did not improve from 0.38064\n",
            "7/7 [==============================] - 1s 178ms/step - loss: 0.2400 - acc: 0.9154 - val_loss: 0.3995 - val_acc: 0.8400\n",
            "Epoch 22/25\n",
            "7/7 [==============================] - ETA: 0s - loss: 0.1933 - acc: 0.9403\n",
            "Epoch 22: val_loss did not improve from 0.38064\n",
            "7/7 [==============================] - 1s 165ms/step - loss: 0.1933 - acc: 0.9403 - val_loss: 0.4640 - val_acc: 0.8200\n",
            "Epoch 23/25\n",
            "7/7 [==============================] - ETA: 0s - loss: 0.1753 - acc: 0.9303\n",
            "Epoch 23: val_loss did not improve from 0.38064\n",
            "7/7 [==============================] - 1s 164ms/step - loss: 0.1753 - acc: 0.9303 - val_loss: 0.4295 - val_acc: 0.8600\n",
            "Epoch 24/25\n",
            "7/7 [==============================] - ETA: 0s - loss: 0.2643 - acc: 0.9055\n",
            "Epoch 24: val_loss did not improve from 0.38064\n",
            "7/7 [==============================] - 1s 165ms/step - loss: 0.2643 - acc: 0.9055 - val_loss: 0.5218 - val_acc: 0.8000\n",
            "Epoch 25/25\n",
            "7/7 [==============================] - ETA: 0s - loss: 0.1666 - acc: 0.9353\n",
            "Epoch 25: val_loss improved from 0.38064 to 0.34346, saving model to training/cp.ckpt\n",
            "7/7 [==============================] - 2s 345ms/step - loss: 0.1666 - acc: 0.9353 - val_loss: 0.3435 - val_acc: 0.8600\n"
          ]
        }
      ]
    },
    {
      "cell_type": "markdown",
      "source": [
        "## Plot the Accuracy and Loss after Fine Tuning"
      ],
      "metadata": {
        "id": "CQrL29m7_yaU"
      }
    },
    {
      "cell_type": "code",
      "source": [
        "acc += history_fine.history['acc']\n",
        "val_acc += history_fine.history['val_acc']\n",
        "\n",
        "loss += history_fine.history['loss']\n",
        "val_loss += history_fine.history['val_loss']"
      ],
      "metadata": {
        "id": "VZOjcGzb25sJ"
      },
      "execution_count": null,
      "outputs": []
    },
    {
      "cell_type": "code",
      "source": [
        "plt.figure(figsize=(8, 8))\n",
        "plt.subplot(2, 1, 1)\n",
        "plt.plot(acc, label='Training Accuracy')\n",
        "plt.plot(val_acc, label='Validation Accuracy')\n",
        "# plt.ylim([0.8, 1])\n",
        "plt.plot([initial_epochs-1,initial_epochs-1],\n",
        "          plt.ylim(), label='Start Fine Tuning')\n",
        "plt.legend(loc='lower right')\n",
        "plt.title('Training and Validation Accuracy')\n",
        "\n",
        "plt.subplot(2, 1, 2)\n",
        "plt.plot(loss, label='Training Loss')\n",
        "plt.plot(val_loss, label='Validation Loss')\n",
        "# plt.ylim([0, 1.0])\n",
        "plt.plot([initial_epochs-1,initial_epochs-1],\n",
        "         plt.ylim(), label='Start Fine Tuning')\n",
        "plt.legend(loc='upper right')\n",
        "plt.title('Training and Validation Loss')\n",
        "plt.xlabel('epoch')\n",
        "plt.show()"
      ],
      "metadata": {
        "colab": {
          "base_uri": "https://localhost:8080/",
          "height": 513
        },
        "id": "9JvTRUNK3HR9",
        "outputId": "c288e074-c4c1-4fc5-bdfb-36383a1ec426"
      },
      "execution_count": null,
      "outputs": [
        {
          "output_type": "display_data",
          "data": {
            "text/plain": [
              "<Figure size 576x576 with 2 Axes>"
            ],
            "image/png": "[encoded data removed]"
          },
          "metadata": {
            "needs_background": "light"
          }
        }
      ]
    },
    {
      "cell_type": "markdown",
      "source": [
        "# Evaluate the Model\n",
        "\n",
        "Here we use the checkpoint callback to load the best model we have seen (according to the loss)"
      ],
      "metadata": {
        "id": "PTNh3L9O_9UX"
      }
    },
    {
      "cell_type": "code",
      "source": [
        "best_model = create_model()\n",
        "best_model.load_weights(checkpoint_path)"
      ],
      "metadata": {
        "colab": {
          "base_uri": "https://localhost:8080/"
        },
        "id": "u8jN2XMn3oVe",
        "outputId": "1c25ac4b-8c6c-4af8-e1d2-d5a1e37faeb7"
      },
      "execution_count": null,
      "outputs": [
        {
          "output_type": "execute_result",
          "data": {
            "text/plain": [
              "<tensorflow.python.training.tracking.util.CheckpointLoadStatus at 0x7f1553ceefd0>"
            ]
          },
          "metadata": {},
          "execution_count": 50
        }
      ]
    },
    {
      "cell_type": "code",
      "source": [
        "best_model.evaluate(test_ds)"
      ],
      "metadata": {
        "colab": {
          "base_uri": "https://localhost:8080/"
        },
        "id": "BueMwJRX4neQ",
        "outputId": "785d5626-4269-408f-f018-593f026a2435"
      },
      "execution_count": null,
      "outputs": [
        {
          "output_type": "stream",
          "name": "stdout",
          "text": [
            "3/3 [==============================] - 2s 45ms/step - loss: 0.2702 - acc: 0.8939\n"
          ]
        },
        {
          "output_type": "execute_result",
          "data": {
            "text/plain": [
              "[0.2702481746673584, 0.8939393758773804]"
            ]
          },
          "metadata": {},
          "execution_count": 51
        }
      ]
    },
    {
      "cell_type": "markdown",
      "source": [
        "## Save the Trained Transfer Learning Model"
      ],
      "metadata": {
        "id": "rksQ0S7eAcLn"
      }
    },
    {
      "cell_type": "code",
      "source": [
        "old_model = tf.keras.models.load_model('/drive/MyDrive/X-Ray classification/Transfer Learning/saved_model/my_model')\n",
        "\n",
        "old_loss, old_acc = old_model.evaluate(test_ds)\n",
        "print(\"Old saved model\")"
      ],
      "metadata": {
        "colab": {
          "base_uri": "https://localhost:8080/"
        },
        "id": "OA09bhW9JzZb",
        "outputId": "54194868-1594-49b0-cbdc-6d764b5611b8"
      },
      "execution_count": null,
      "outputs": [
        {
          "output_type": "stream",
          "name": "stdout",
          "text": [
            "3/3 [==============================] - 0s 8ms/step - loss: 0.2496 - categorical_accuracy: 0.8636 - auc: 0.9765\n",
            "Old saved model\n"
          ]
        }
      ]
    },
    {
      "cell_type": "code",
      "source": [
        "if old_acc < acc: \n",
        "  print('Saved best_model over the prev model')\n",
        "  best_model.save('drive/MyDrive/X-Ray classification/Transfer Learning/saved_model/my_model')\n",
        "else:\n",
        "  best_model = old_model"
      ],
      "metadata": {
        "id": "N1QL_aF2MeVW"
      },
      "execution_count": null,
      "outputs": []
    },
    {
      "cell_type": "markdown",
      "source": [
        "## Classification Report and Confusion Matrix\n",
        "\n",
        "A (i, j) entry in a confusion matrix means that the true label was class_i but the model predicted class_j. This confusion matrix is also normalized so that it sums to 1. "
      ],
      "metadata": {
        "id": "KenIoSl96jlc"
      }
    },
    {
      "cell_type": "code",
      "execution_count": null,
      "metadata": {
        "id": "Y-dpA8zTa0fg"
      },
      "outputs": [],
      "source": [
        "y_pred = tf.argmax(best_model.predict(test_ds), axis = 1).numpy()\n",
        "ds = test_ds.take(-1).unbatch()\n",
        "# numpy() is used to convert a tf tensor to a numpy array\n",
        "y_true = [y.numpy() for x, y in ds] "
      ]
    },
    {
      "cell_type": "code",
      "execution_count": null,
      "metadata": {
        "id": "7Yhcp1oxbXXe",
        "colab": {
          "base_uri": "https://localhost:8080/",
          "height": 475
        },
        "outputId": "bc3125c2-b87f-4f4e-a04d-fbf96e3880ce"
      },
      "outputs": [
        {
          "output_type": "stream",
          "name": "stdout",
          "text": [
            "              precision    recall  f1-score   support\n",
            "\n",
            "       Covid       1.00      0.96      0.98        26\n",
            "      Normal       0.93      0.70      0.80        20\n",
            "   Pneumonia       0.77      1.00      0.87        20\n",
            "\n",
            "    accuracy                           0.89        66\n",
            "   macro avg       0.90      0.89      0.88        66\n",
            "weighted avg       0.91      0.89      0.89        66\n",
            "\n"
          ]
        },
        {
          "output_type": "execute_result",
          "data": {
            "text/plain": [
              "<sklearn.metrics._plot.confusion_matrix.ConfusionMatrixDisplay at 0x7f17b060d890>"
            ]
          },
          "metadata": {},
          "execution_count": 54
        },
        {
          "output_type": "display_data",
          "data": {
            "text/plain": [
              "<Figure size 432x288 with 2 Axes>"
            ],
            "image/png": "[encoded data removed]"
          },
          "metadata": {
            "needs_background": "light"
          }
        }
      ],
      "source": [
        "from sklearn.metrics import classification_report\n",
        "\n",
        "print(classification_report(y_true, y_pred, target_names = class_names))\n",
        "\n",
        "from sklearn.metrics import confusion_matrix, ConfusionMatrixDisplay\n",
        "cm = confusion_matrix(y_true, y_pred, normalize='all')\n",
        "disp = ConfusionMatrixDisplay(confusion_matrix=cm,\n",
        "                              display_labels= class_names)\n",
        "disp.plot()"
      ]
    }
  ]
}